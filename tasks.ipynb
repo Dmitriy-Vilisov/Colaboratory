{
  "nbformat": 4,
  "nbformat_minor": 0,
  "metadata": {
    "colab": {
      "provenance": []
    },
    "kernelspec": {
      "name": "python3",
      "display_name": "Python 3"
    },
    "language_info": {
      "name": "python"
    }
  },
  "cells": [
    {
      "cell_type": "code",
      "execution_count": null,
      "metadata": {
        "id": "cYhykhupX4iM"
      },
      "outputs": [],
      "source": [
        "book1 = 'my book'\n",
        "book2 = 'your book'\n",
        "books = ['all_books']\n",
        "books.append(book1)\n",
        "books.append(book2)\n",
        "#print(books)\n",
        "books.clear()\n",
        "#print(books)\n",
        "\n",
        "my_books = ['book1', 'book2', 'book3', 'book4', 'book5']\n",
        "tom_books = my_books.copy()\n",
        "#print(my_books, tom_books)"
      ]
    },
    {
      "cell_type": "code",
      "source": [],
      "metadata": {
        "id": "hwjMdL2hyOOh"
      },
      "execution_count": null,
      "outputs": []
    },
    {
      "cell_type": "code",
      "source": [
        "my_orders = ['order1', 'order2', 'order3', 'order4', 'order5']\n",
        "anne_orders = my_orders[:]\n",
        "print(my_orders, anne_orders)"
      ],
      "metadata": {
        "colab": {
          "base_uri": "https://localhost:8080/"
        },
        "id": "JJiaYv4ElBfQ",
        "outputId": "b6588a30-4485-46d7-cb2f-c4b7ae8b7e98"
      },
      "execution_count": null,
      "outputs": [
        {
          "output_type": "stream",
          "name": "stdout",
          "text": [
            "['order1', 'order2', 'order3', 'order4', 'order5'] ['order1', 'order2', 'order3', 'order4', 'order5']\n"
          ]
        }
      ]
    },
    {
      "cell_type": "code",
      "source": [],
      "metadata": {
        "id": "O5Gf_0zglaYk"
      },
      "execution_count": null,
      "outputs": []
    },
    {
      "cell_type": "code",
      "source": [
        "random_values = [3, 5, 0, -1, 2, 10, 15, -5]\n",
        "random_values.sort()\n",
        "print(random_values)"
      ],
      "metadata": {
        "id": "4-juojY_qmb_",
        "colab": {
          "base_uri": "https://localhost:8080/"
        },
        "outputId": "e4f48569-a00b-4ad8-f1cd-59b8e3f6732d"
      },
      "execution_count": null,
      "outputs": [
        {
          "output_type": "stream",
          "name": "stdout",
          "text": [
            "[-5, -1, 0, 2, 3, 5, 10, 15]\n"
          ]
        }
      ]
    },
    {
      "cell_type": "code",
      "source": [
        "place_and_money = {1: 100, 2: 50, 3: 10}\n",
        "a = place_and_money.pop(3)\n",
        "print(a)"
      ],
      "metadata": {
        "id": "l0Rn5W1Jck_S",
        "colab": {
          "base_uri": "https://localhost:8080/"
        },
        "outputId": "06d7a872-9844-46a3-b002-7a877f00fad4"
      },
      "execution_count": null,
      "outputs": [
        {
          "output_type": "stream",
          "name": "stdout",
          "text": [
            "10\n"
          ]
        }
      ]
    },
    {
      "cell_type": "code",
      "source": [
        "test_dich3 = {}\n",
        "test_dich3.update({'info': [10, 15, 27]})\n",
        "test_dich3.update({'about': {'game': 'football', 'period': 5}})\n",
        "test_dich3.update({'about': 'dont know'})\n",
        "print(test_dich3)"
      ],
      "metadata": {
        "id": "BycDR3tre9uO",
        "colab": {
          "base_uri": "https://localhost:8080/"
        },
        "outputId": "18ca6d78-39c8-43fe-e8cd-dc8c94113210"
      },
      "execution_count": null,
      "outputs": [
        {
          "output_type": "stream",
          "name": "stdout",
          "text": [
            "{'info': [10, 15, 27], 'about': 'dont know'}\n"
          ]
        }
      ]
    },
    {
      "cell_type": "markdown",
      "source": [],
      "metadata": {
        "id": "vAALZ3vZfiK5"
      }
    },
    {
      "cell_type": "code",
      "source": [
        "s2 = {5, 10, 3, 2, 11}\n",
        "s3 = set('wow thats cool')\n",
        "s1 = set('abcde')\n",
        "s1.add('hello')\n",
        "s4 = {'a', 'b', 'c', 'd', 'e', 'f'}\n",
        "s4.discard('f')\n",
        "s4"
      ],
      "metadata": {
        "id": "WZp8q4j8jPE6",
        "colab": {
          "base_uri": "https://localhost:8080/"
        },
        "outputId": "53c45fa2-bfab-4c7d-ea0e-f81de36f633a"
      },
      "execution_count": null,
      "outputs": [
        {
          "output_type": "execute_result",
          "data": {
            "text/plain": [
              "{'a', 'b', 'c', 'd', 'e'}"
            ]
          },
          "metadata": {},
          "execution_count": 191
        }
      ]
    },
    {
      "cell_type": "code",
      "source": [
        "a = 1.3+1.3\n",
        "a"
      ],
      "metadata": {
        "id": "IieQ1SPly3dc",
        "colab": {
          "base_uri": "https://localhost:8080/"
        },
        "outputId": "b4f7cdb4-6da7-44dd-8d4e-9f5d6076b7a3"
      },
      "execution_count": null,
      "outputs": [
        {
          "output_type": "execute_result",
          "data": {
            "text/plain": [
              "2.6"
            ]
          },
          "metadata": {},
          "execution_count": 192
        }
      ]
    },
    {
      "cell_type": "code",
      "source": [
        "name_to_age = {'Anne': 22, 'Anton': 27, 'Phillip': 30}\n",
        "print(name_to_age.keys())"
      ],
      "metadata": {
        "id": "GhgHtsLq3v55",
        "colab": {
          "base_uri": "https://localhost:8080/"
        },
        "outputId": "42c4aebb-1a2e-4674-bdc7-26964f4e34e2"
      },
      "execution_count": null,
      "outputs": [
        {
          "output_type": "stream",
          "name": "stdout",
          "text": [
            "dict_keys(['Anne', 'Anton', 'Phillip'])\n"
          ]
        }
      ]
    },
    {
      "cell_type": "code",
      "source": [
        "place_and_money = {1: 100, 2: 50, 3: 10}\n",
        "print(place_and_money.values())"
      ],
      "metadata": {
        "id": "0GEqjGWdWk-0",
        "colab": {
          "base_uri": "https://localhost:8080/"
        },
        "outputId": "5fd18e7e-00a0-4632-ad80-bd5722194d68"
      },
      "execution_count": null,
      "outputs": [
        {
          "output_type": "stream",
          "name": "stdout",
          "text": [
            "dict_values([100, 50, 10])\n"
          ]
        }
      ]
    },
    {
      "cell_type": "code",
      "source": [
        "#union\n",
        "alpha_set = {'a', 'b', 'c', 'd', 'e'}\n",
        "name = set('bad boy')\n",
        "\n",
        "a = alpha_set | name\n",
        "a"
      ],
      "metadata": {
        "id": "Uo6wCTA00276",
        "colab": {
          "base_uri": "https://localhost:8080/"
        },
        "outputId": "3fb4e1fa-21ce-4cd5-87c2-8e2741ed9815"
      },
      "execution_count": null,
      "outputs": [
        {
          "output_type": "execute_result",
          "data": {
            "text/plain": [
              "{' ', 'a', 'b', 'c', 'd', 'e', 'o', 'y'}"
            ]
          },
          "metadata": {},
          "execution_count": 195
        }
      ]
    },
    {
      "cell_type": "code",
      "source": [
        "#union\n",
        "alpha_set = {'a', 'b', 'c', 'd', 'e'}\n",
        "name = set('bad boy')\n",
        "print(name)\n",
        "a = alpha_set.union(name)\n",
        "b = alpha_set | name\n",
        "print(f\"'union': {a} \\n'  |  ': {b} \", a is b )"
      ],
      "metadata": {
        "id": "kgILGNFLj9Kv",
        "colab": {
          "base_uri": "https://localhost:8080/"
        },
        "outputId": "2764fa53-2bc7-46c8-9466-7308e7c0bef0"
      },
      "execution_count": null,
      "outputs": [
        {
          "output_type": "stream",
          "name": "stdout",
          "text": [
            "{'y', 'b', 'd', 'o', ' ', 'a'}\n",
            "'union': {'c', 'y', 'b', 'd', 'o', ' ', 'a', 'e'} \n",
            "'  |  ': {'c', 'y', 'b', 'd', 'o', ' ', 'a', 'e'}  False\n"
          ]
        }
      ]
    },
    {
      "cell_type": "code",
      "source": [
        "num_set = set(range(0,11))\n",
        "date_num = set([1,9,4,8])\n",
        "a = num_set.union(date_num)\n",
        "print(a)\n",
        "print(num_set | date_num)"
      ],
      "metadata": {
        "id": "TJQF8-6V4nlr",
        "colab": {
          "base_uri": "https://localhost:8080/"
        },
        "outputId": "f01cceac-d7b0-4b92-fb6f-d4073778e721"
      },
      "execution_count": null,
      "outputs": [
        {
          "output_type": "stream",
          "name": "stdout",
          "text": [
            "{0, 1, 2, 3, 4, 5, 6, 7, 8, 9, 10}\n",
            "{0, 1, 2, 3, 4, 5, 6, 7, 8, 9, 10}\n"
          ]
        }
      ]
    },
    {
      "cell_type": "code",
      "source": [
        "#intersection\n",
        "alpha_set = {'a', 'b', 'c', 'd', 'e'}\n",
        "b =set('abcde')\n",
        "name = set('bad boy')\n",
        "b.intersection(name), name.intersection(b)\n"
      ],
      "metadata": {
        "id": "FJnXNWIMkije",
        "colab": {
          "base_uri": "https://localhost:8080/"
        },
        "outputId": "4ce1353e-7709-40ba-bc44-607f2f726a85"
      },
      "execution_count": null,
      "outputs": [
        {
          "output_type": "execute_result",
          "data": {
            "text/plain": [
              "({'a', 'b', 'd'}, {'a', 'b', 'd'})"
            ]
          },
          "metadata": {},
          "execution_count": 198
        }
      ]
    },
    {
      "cell_type": "code",
      "source": [
        "num_set = set(range(1,11))\n",
        "date_num2 = set([1,9,4,8])\n",
        "date_num2.intersection(num_set)\n"
      ],
      "metadata": {
        "id": "LUyaTusLlhA-",
        "colab": {
          "base_uri": "https://localhost:8080/"
        },
        "outputId": "ca02c586-3968-4c64-8ad2-54c3fd1f5314"
      },
      "execution_count": null,
      "outputs": [
        {
          "output_type": "execute_result",
          "data": {
            "text/plain": [
              "{1, 4, 8, 9}"
            ]
          },
          "metadata": {},
          "execution_count": 199
        }
      ]
    },
    {
      "cell_type": "code",
      "source": [
        "#difference\n",
        "alpha_set = {'a', 'b', 'c', 'd', 'e'}\n",
        "name = set('bad boy')\n",
        "alpha_set.difference(name)"
      ],
      "metadata": {
        "id": "7VGVKRuWniMl",
        "colab": {
          "base_uri": "https://localhost:8080/"
        },
        "outputId": "540d4a6b-1ea6-46e0-c57e-a50b0431301e"
      },
      "execution_count": null,
      "outputs": [
        {
          "output_type": "execute_result",
          "data": {
            "text/plain": [
              "{'c', 'e'}"
            ]
          },
          "metadata": {},
          "execution_count": 200
        }
      ]
    },
    {
      "cell_type": "code",
      "source": [
        "num_set = set(range(0,11))\n",
        "date_num2 = set([1,9,4,8])\n",
        "num_set.difference(date_num2)"
      ],
      "metadata": {
        "id": "AFE2K7Q2oCUP",
        "colab": {
          "base_uri": "https://localhost:8080/"
        },
        "outputId": "03e22662-aaea-4590-a330-85f63db38a94"
      },
      "execution_count": null,
      "outputs": [
        {
          "output_type": "execute_result",
          "data": {
            "text/plain": [
              "{0, 2, 3, 5, 6, 7, 10}"
            ]
          },
          "metadata": {},
          "execution_count": 201
        }
      ]
    },
    {
      "cell_type": "code",
      "source": [
        "#issubset\n"
      ],
      "metadata": {
        "id": "Z-jky0HSoSud"
      },
      "execution_count": null,
      "outputs": []
    },
    {
      "cell_type": "code",
      "source": [
        "num1 = 3\n",
        "num2 = 3.5\n",
        "sum1 = num1 + num2\n",
        "a = float(num1)\n",
        "sum2 = num2 + a\n",
        "sum1, sum2"
      ],
      "metadata": {
        "id": "XMMKYvQDqSu8",
        "colab": {
          "base_uri": "https://localhost:8080/"
        },
        "outputId": "93ffe450-a1a9-4985-8cf3-6f83d821b216"
      },
      "execution_count": null,
      "outputs": [
        {
          "output_type": "execute_result",
          "data": {
            "text/plain": [
              "(6.5, 6.5)"
            ]
          },
          "metadata": {},
          "execution_count": 203
        }
      ]
    },
    {
      "cell_type": "code",
      "source": [
        "str_one = 1\n",
        "str_one = str(str_one)\n",
        "str_one"
      ],
      "metadata": {
        "id": "5jraGSn0rPPM",
        "colab": {
          "base_uri": "https://localhost:8080/",
          "height": 47
        },
        "outputId": "c76ace58-1081-4315-a888-b3b0e604f445"
      },
      "execution_count": null,
      "outputs": [
        {
          "output_type": "execute_result",
          "data": {
            "text/plain": [
              "'1'"
            ],
            "application/vnd.google.colaboratory.intrinsic+json": {
              "type": "string"
            }
          },
          "metadata": {},
          "execution_count": 204
        }
      ]
    },
    {
      "cell_type": "code",
      "source": [
        "str_age_begin = 'my age is '\n",
        "int_age = 18\n",
        "result_string = str_age_begin + str(int_age)\n",
        "s = '11.1'\n",
        "print(float(s))"
      ],
      "metadata": {
        "id": "030DmskLrk3J",
        "colab": {
          "base_uri": "https://localhost:8080/"
        },
        "outputId": "b6624454-c32e-4a1f-d03f-10f353948f69"
      },
      "execution_count": null,
      "outputs": [
        {
          "output_type": "stream",
          "name": "stdout",
          "text": [
            "11.1\n"
          ]
        }
      ]
    },
    {
      "cell_type": "code",
      "source": [],
      "metadata": {
        "id": "BKWf3rc2vaiw"
      },
      "execution_count": null,
      "outputs": []
    },
    {
      "cell_type": "code",
      "source": [],
      "metadata": {
        "id": "tM3a8lnlw0-M"
      },
      "execution_count": null,
      "outputs": []
    },
    {
      "cell_type": "code",
      "source": [],
      "metadata": {
        "id": "BPgBQm-DxY-3"
      },
      "execution_count": null,
      "outputs": []
    },
    {
      "cell_type": "code",
      "source": [
        "list6 = [3,1,-10,5,11,20,1,-10]\n",
        "list7 = list6.copy()\n",
        "list6.sort()\n",
        "list_result = list6.copy()\n",
        "print(list7, list_result)\n",
        "list_result.reverse()\n",
        "print(list7, list_result)"
      ],
      "metadata": {
        "id": "KKFXCN6CyQhe",
        "colab": {
          "base_uri": "https://localhost:8080/"
        },
        "outputId": "fd75b49b-02ed-4e18-fe27-a3558559f0fe"
      },
      "execution_count": null,
      "outputs": [
        {
          "output_type": "stream",
          "name": "stdout",
          "text": [
            "[3, 1, -10, 5, 11, 20, 1, -10] [-10, -10, 1, 1, 3, 5, 11, 20]\n",
            "[3, 1, -10, 5, 11, 20, 1, -10] [20, 11, 5, 3, 1, 1, -10, -10]\n"
          ]
        }
      ]
    },
    {
      "cell_type": "code",
      "source": [
        "list1 = [10,15]\n",
        "tpl1 = tuple(list1)\n",
        "dict1 = {}\n",
        "dict1[tpl1] = 'hello'\n",
        "print(dict1)"
      ],
      "metadata": {
        "id": "bxRZntZO2Ki0",
        "colab": {
          "base_uri": "https://localhost:8080/"
        },
        "outputId": "1430b9bf-0988-4748-f664-62cf2df6b7d0"
      },
      "execution_count": null,
      "outputs": [
        {
          "output_type": "stream",
          "name": "stdout",
          "text": [
            "{(10, 15): 'hello'}\n"
          ]
        }
      ]
    },
    {
      "cell_type": "code",
      "source": [
        "dict1 = {}\n",
        "dict2 = dict()\n",
        "dict1['name'] = 'unknown'\n",
        "dict2['name'] = 'Tom'\n",
        "print(dict1, dict2, dict1.keys(), dict1.values())"
      ],
      "metadata": {
        "id": "oO8RM8E53lhI",
        "colab": {
          "base_uri": "https://localhost:8080/"
        },
        "outputId": "e068de97-7fde-4e35-850c-62680ef43066"
      },
      "execution_count": null,
      "outputs": [
        {
          "output_type": "stream",
          "name": "stdout",
          "text": [
            "{'name': 'unknown'} {'name': 'Tom'} dict_keys(['name']) dict_values(['unknown'])\n"
          ]
        }
      ]
    },
    {
      "cell_type": "code",
      "source": [
        "s1 = set('hello')\n",
        "s2 = set(['w', 'o', 'w'])\n",
        "s3, s4 = s1.copy(), s1.copy()\n",
        "s3.update(s2)\n",
        "print(s4)\n",
        "s4.discard(s2)\n",
        "print(s4)\n",
        "s4 -= s2\n",
        "print(s4)\n",
        "s1.intersection_update(s2)\n",
        "print(s3, s1, s4)\n"
      ],
      "metadata": {
        "id": "m3gMHTvU4Rw6",
        "colab": {
          "base_uri": "https://localhost:8080/"
        },
        "outputId": "3ad566d6-aaa4-4c4a-f3d2-42c24ef3a75d"
      },
      "execution_count": null,
      "outputs": [
        {
          "output_type": "stream",
          "name": "stdout",
          "text": [
            "{'h', 'l', 'o', 'e'}\n",
            "{'h', 'l', 'o', 'e'}\n",
            "{'h', 'l', 'e'}\n",
            "{'h', 'w', 'l', 'o', 'e'} {'o'} {'h', 'l', 'e'}\n"
          ]
        }
      ]
    },
    {
      "cell_type": "code",
      "source": [
        "#  Условные операторы\n",
        "# 2.4\n",
        "target_string = \"шалаш  \"\n",
        "target_string = (target_string.lower()).replace(' ', '')\n",
        "\n",
        "result = target_string == target_string[::-1]\n",
        "result"
      ],
      "metadata": {
        "id": "LkPD5g6LlfDo",
        "colab": {
          "base_uri": "https://localhost:8080/"
        },
        "outputId": "2f59076f-9b69-4359-e5ad-eb7a5f46e15d"
      },
      "execution_count": null,
      "outputs": [
        {
          "output_type": "execute_result",
          "data": {
            "text/plain": [
              "True"
            ]
          },
          "metadata": {},
          "execution_count": 210
        }
      ]
    },
    {
      "cell_type": "code",
      "source": [
        "# 2.8\n",
        "#result = (a**2 > b) and (a*a > c)"
      ],
      "metadata": {
        "id": "bZmIjtdjnr5O"
      },
      "execution_count": null,
      "outputs": []
    },
    {
      "cell_type": "code",
      "source": [
        "# 2.9\n",
        "diagnosis_1 = 'yes'\n",
        "diagnosis_2 = 'yes'\n",
        "diagnosis_3 = 'no'\n",
        "\n",
        "#result = diagnosis_1 +' '+ diagnosis_2 +' '+ diagnosis_3\n",
        "result = diagnosis_1 == 'yes' or diagnosis_2 == 'yes' or diagnosis_3 == 'yes'\n",
        "result"
      ],
      "metadata": {
        "id": "Vz7_q32go7fq",
        "colab": {
          "base_uri": "https://localhost:8080/"
        },
        "outputId": "c756f560-e496-4a77-8d28-1f7f7411bbbe"
      },
      "execution_count": null,
      "outputs": [
        {
          "output_type": "execute_result",
          "data": {
            "text/plain": [
              "True"
            ]
          },
          "metadata": {},
          "execution_count": 212
        }
      ]
    },
    {
      "cell_type": "code",
      "source": [
        "# 3.1\n",
        "N = 1700003000000000\n",
        "contains = \"3\" in str(N) and '7' in str(N)\n",
        "print(contains)\n"
      ],
      "metadata": {
        "id": "W2B_28az0Jzp",
        "colab": {
          "base_uri": "https://localhost:8080/"
        },
        "outputId": "961e3530-d56b-4579-d973-13ef0766efa9"
      },
      "execution_count": null,
      "outputs": [
        {
          "output_type": "stream",
          "name": "stdout",
          "text": [
            "True\n"
          ]
        }
      ]
    },
    {
      "cell_type": "code",
      "source": [
        "#3.2\n",
        "x, y = 'F', 9\n",
        "o_x = x in set('ABCDEFGH')\n",
        "o_y = str(y) in set('12345678')\n",
        "move_is_correct = o_x and o_y\n",
        "print(move_is_correct)"
      ],
      "metadata": {
        "id": "mLCPLJYz3hva",
        "colab": {
          "base_uri": "https://localhost:8080/"
        },
        "outputId": "d3b48680-ac24-4b17-8b06-5ecf64b7b3c4"
      },
      "execution_count": null,
      "outputs": [
        {
          "output_type": "stream",
          "name": "stdout",
          "text": [
            "False\n"
          ]
        }
      ]
    },
    {
      "cell_type": "code",
      "source": [
        "# 3.3\n",
        "N = 2700003000000000\n",
        "first_is_even = int(str(N)[0]) % 2 == 0\n",
        "print(first_is_even)"
      ],
      "metadata": {
        "id": "lsaNjWEo4740",
        "colab": {
          "base_uri": "https://localhost:8080/"
        },
        "outputId": "e8ffa4c7-42b8-4398-ff9c-1c15c032f47c"
      },
      "execution_count": null,
      "outputs": [
        {
          "output_type": "stream",
          "name": "stdout",
          "text": [
            "True\n"
          ]
        }
      ]
    },
    {
      "cell_type": "code",
      "source": [
        "# 3.4\n",
        "year = 450\n",
        "year_is_leap = \\\n",
        "(year % 400 == 0) or \\\n",
        "((year % 4 == 0) and \\\n",
        "(year % 100 != 0))\n",
        "print(year_is_leap)\n"
      ],
      "metadata": {
        "id": "lFWyuHQp6sE2",
        "colab": {
          "base_uri": "https://localhost:8080/"
        },
        "outputId": "173de881-1d46-476b-9b40-7fd53acbb0dd"
      },
      "execution_count": null,
      "outputs": [
        {
          "output_type": "stream",
          "name": "stdout",
          "text": [
            "False\n"
          ]
        }
      ]
    },
    {
      "cell_type": "code",
      "source": [
        "# 3.5\n",
        "n, m, k = 5, 4, 8 # ширина, длина, количество долек после разделения. отломленая часть\n",
        "s = n * m\n",
        "result = (((k % n == 0) and (n * (k // n) == k)) or \\\n",
        "((k % m == 0) and (m * (k // m) == k))) and s > k"
      ],
      "metadata": {
        "id": "i-ztHN4h9dxe"
      },
      "execution_count": null,
      "outputs": []
    },
    {
      "cell_type": "code",
      "source": [
        "# 3.7\n",
        "arrival_of_goods = {\n",
        "    '148902': {\n",
        "        'Футболка с принтом': 180,\n",
        "        'Свитшот черный': 245,\n",
        "        'Джинсы серые': 252\n",
        "    },\n",
        "    '893516': {\n",
        "        'Футболка с принтом': 43,\n",
        "        'Свитшот черный': 64,\n",
        "        'Джинсы черные': 102\n",
        "    },\n",
        "    '893481': {\n",
        "        'Кружка керамическая': 35,\n",
        "        'Свитшот черный': 10,\n",
        "        'Джинсы сервые': 14\n",
        "    }\n",
        "}\n",
        "invoice_number = '893481'\n",
        "# invoice_exists = invoice_number in set(arrival_of_goods.keys()) # работает но не по теме\n",
        "invoice_exists = arrival_of_goods.get(invoice_number) is not None # если None то нет в словаре\n",
        "print(invoice_exists)"
      ],
      "metadata": {
        "id": "XCXzBgLVqSfp",
        "colab": {
          "base_uri": "https://localhost:8080/"
        },
        "outputId": "d3f4849e-36ff-4bb3-bf39-a9b6d2407c73"
      },
      "execution_count": null,
      "outputs": [
        {
          "output_type": "stream",
          "name": "stdout",
          "text": [
            "True\n"
          ]
        }
      ]
    },
    {
      "cell_type": "code",
      "source": [
        "# *ТЕРНАРНЫЙ УСЛОВНЫЙ ОПЕРАТОР, тест\n",
        "cust_age = 404\n",
        "##if cust_age >= 60:\n",
        "    # условие выполняется\n",
        "    #print(\"Eligible for discount\")\n",
        "#else:\n",
        "    # условие не выполняется\n",
        "    #print(\"Not eligible for discount\")\n",
        "\n",
        "# № 2\n",
        "# Реализуем тот же код через тернарный оператор\n",
        "#cust_discount = \"Eligible for discount\" if cust_age >= 60 else \"Not eligible for discount\"\n",
        "#print(cust_discount)\n",
        "\n",
        "# мой вариант\n",
        "print(\"Eligible for discount\" if cust_age >= 60 else \"Not eligible for discount\")\n",
        "# работает"
      ],
      "metadata": {
        "id": "G0eQguyrCOUL",
        "colab": {
          "base_uri": "https://localhost:8080/"
        },
        "outputId": "a233e18e-872a-4921-a45a-adbc61fac080"
      },
      "execution_count": null,
      "outputs": [
        {
          "output_type": "stream",
          "name": "stdout",
          "text": [
            "Eligible for discount\n"
          ]
        }
      ]
    },
    {
      "cell_type": "code",
      "source": [
        "#5.3\n",
        "height = 183\n",
        "weight = 78\n",
        "zodiac_sign = 'козерог'\n",
        "zodiac_set = {'весы', 'дева', 'овен', 'козерог'}\n",
        "if height > 180 and weight < 80 and zodiac_sign in zodiac_set:\n",
        "    print('Ваша половинка нашлась!')\n",
        "else:\n",
        "    print('Попробуем поискать еще!')"
      ],
      "metadata": {
        "id": "GP6ykRoCKkCX",
        "colab": {
          "base_uri": "https://localhost:8080/"
        },
        "outputId": "4cebce6b-b38b-4ddb-d88f-7c848dcfaaaf"
      },
      "execution_count": null,
      "outputs": [
        {
          "output_type": "stream",
          "name": "stdout",
          "text": [
            "Ваша половинка нашлась!\n"
          ]
        }
      ]
    },
    {
      "cell_type": "code",
      "source": [
        "# 5.5\n",
        "\n",
        "player_1 = 'камень'\n",
        "player_2 = 'ножницы'\n",
        "\n",
        "if player_1 == player_2:\n",
        "    print('Ничья!')\n",
        "elif (player_1 == 'камень' and player_2 == 'ножницы') or \\\n",
        "    (player_1 == 'ножницы' and player_2 == 'бумага') or \\\n",
        "    (player_1 == 'бумага' and player_2 == 'камень'):\n",
        "    print('Первый игрок — победитель!')\n",
        "else:\n",
        "    print('Второй игрок — победитель!')\n",
        "\n",
        "\n",
        "\n"
      ],
      "metadata": {
        "id": "wfMXovQIT3pO",
        "colab": {
          "base_uri": "https://localhost:8080/"
        },
        "outputId": "077bb72f-6317-4066-e119-399950335dd6"
      },
      "execution_count": null,
      "outputs": [
        {
          "output_type": "stream",
          "name": "stdout",
          "text": [
            "Первый игрок — победитель!\n"
          ]
        }
      ]
    },
    {
      "cell_type": "code",
      "source": [
        "# 5.6\n",
        "\n",
        "purchases = [\"Adidas\", 'Nike']\n",
        "prices = {'Adidas': 4298, 'Nike': 6550, 'Puma': 4490, 'Asics': 3879}\n",
        "# Ошибки (не обязательно в этой задаче, но чтобы отработать словарь)\n",
        "#mistakes = {\n",
        "#    'quantity': 'Ваша корзина пуста',\n",
        "#}\n",
        "\n",
        "if purchases:\n",
        "#    mistakes.pop('quantity')\n",
        "    if len(purchases) == 1:\n",
        "        discount = 0\n",
        "        print(f'Стоимость заказа составила: {prices[purchases[0]]}')\n",
        "    else:\n",
        "        discount = 10 if purchases[0] == purchases[1] else 5\n",
        "        full_price = prices[purchases[0]]+prices[purchases[1]]\n",
        "        print(f'Стоимость заказа составила: {full_price}. С учетом скидки в {discount}% — {full_price * (100-discount)/100}')\n",
        "else:\n",
        "    print('Ваша корзина пуста')\n",
        "\n",
        "\n",
        "\n"
      ],
      "metadata": {
        "id": "wd7xbsGgu60k",
        "colab": {
          "base_uri": "https://localhost:8080/"
        },
        "outputId": "b6861a0e-f379-487a-84d8-392d241ddefb"
      },
      "execution_count": null,
      "outputs": [
        {
          "output_type": "stream",
          "name": "stdout",
          "text": [
            "Стоимость заказа составила: 10848. С учетом скидки в 5% — 10305.6\n"
          ]
        }
      ]
    },
    {
      "cell_type": "code",
      "source": [
        "# 5.7\n",
        "\n",
        "date = '16.04.2019 10:59'\n",
        "str_date_list = date.split(' ')[0].split('.') # ['число', 'месяц', 'год']\n",
        "date_dict = {'day': int(str_date_list[0]),\n",
        "             'month': int(str_date_list[1]),\n",
        "             'year': int(str_date_list[2])\n",
        "             } # перевели все в числа\n",
        "\n",
        "if date_dict['year'] == 2019:\n",
        "    if date_dict['month'] == 5:\n",
        "        category = 1\n",
        "    elif 1 <= date_dict['month'] < 5:\n",
        "        category = 2\n",
        "elif date_dict['year'] < 2019:\n",
        "    category = 3\n",
        "\n"
      ],
      "metadata": {
        "id": "EKEhbpqT6e_o"
      },
      "execution_count": null,
      "outputs": []
    },
    {
      "cell_type": "code",
      "source": [
        "# 5.8\n",
        "city_info = 'Волгоград , готов к переезду (Сочи, Москва) , готов к командировкам'\n",
        "\n",
        "million_cities = [\n",
        "    'Новосибирск', 'Екатеринбург', 'Нижний Новгород', 'Казань', \\\n",
        "    'Челябинск', 'Омск', 'Самара', 'Ростов-на-Дону', 'Уфа', \\\n",
        "    'Красноярск', 'Пермь', 'Воронеж', 'Волгоград']\n",
        "\n",
        "city_category = [\"Москва\", \"Санкт-Петербург\", 'Город миллионник', 'Другое']\n",
        "city_ = city_info.split(' , ')[0]\n",
        "\n",
        "if (city_ == city_category[0]):\n",
        "    city = city_category[0]\n",
        "elif city_ == city_category[1]:\n",
        "    city = city_category[1]\n",
        "elif city_ in million_cities:\n",
        "    city = city_category[2]\n",
        "else:\n",
        "    city = city_category[-1]\n",
        "\n",
        "\n",
        "print(city)"
      ],
      "metadata": {
        "id": "vAul9Nmm6WTa",
        "colab": {
          "base_uri": "https://localhost:8080/"
        },
        "outputId": "7a87ed5b-d467-440c-e9e3-bea6dc2e4337"
      },
      "execution_count": null,
      "outputs": [
        {
          "output_type": "stream",
          "name": "stdout",
          "text": [
            "Город миллионник\n"
          ]
        }
      ]
    },
    {
      "cell_type": "code",
      "source": [
        "# 6.5 try-except-else-finally\n",
        "\n",
        "medicines = {'Ибупрофен': 99, 'Эспумизан': 279, 'Пенталгин': 119}\n",
        "name = 'Ибупрофен'\n",
        "\n",
        "try:\n",
        "    print(medicines[name])\n",
        "except:\n",
        "    print('Такого ключа в словаре нет')\n"
      ],
      "metadata": {
        "id": "ia4nfycuEq4L",
        "colab": {
          "base_uri": "https://localhost:8080/"
        },
        "outputId": "1ca51250-1e60-46eb-afbe-bb93762aae67"
      },
      "execution_count": null,
      "outputs": [
        {
          "output_type": "stream",
          "name": "stdout",
          "text": [
            "99\n"
          ]
        }
      ]
    },
    {
      "cell_type": "code",
      "source": [
        "# ЦИКЛЫ!!!!!!!!!!!!!"
      ],
      "metadata": {
        "id": "bz8ih3WvYKeE"
      },
      "execution_count": null,
      "outputs": []
    },
    {
      "cell_type": "code",
      "source": [
        "# 2.5\n",
        "\n",
        "#for i in list(range(1, n+1, 1)):\n",
        "#    print('*'*i)\n",
        "n = 5\n",
        "k = [print('*'*i) for i in list(range(1, n+1, 1))] # УДАЛОСЬ ГЕНЕРАТОРОМ!!!\n",
        "# ПОЧЕМУ ГЕНЕРАТОР ВЫДАЕТ ИМЕННО N - NONE если объявить без переменной???"
      ],
      "metadata": {
        "id": "ljhxbqn2YSoz",
        "colab": {
          "base_uri": "https://localhost:8080/",
          "height": 193
        },
        "outputId": "da341868-b2c8-4530-ac42-faa89b6edea0"
      },
      "execution_count": null,
      "outputs": [
        {
          "output_type": "error",
          "ename": "TypeError",
          "evalue": "'list' object is not callable",
          "traceback": [
            "\u001b[0;31m---------------------------------------------------------------------------\u001b[0m",
            "\u001b[0;31mTypeError\u001b[0m                                 Traceback (most recent call last)",
            "\u001b[0;32m<ipython-input-227-bd27af4a8006>\u001b[0m in \u001b[0;36m<cell line: 6>\u001b[0;34m()\u001b[0m\n\u001b[1;32m      4\u001b[0m \u001b[0;31m#    print('*'*i)\u001b[0m\u001b[0;34m\u001b[0m\u001b[0;34m\u001b[0m\u001b[0m\n\u001b[1;32m      5\u001b[0m \u001b[0mn\u001b[0m \u001b[0;34m=\u001b[0m \u001b[0;36m5\u001b[0m\u001b[0;34m\u001b[0m\u001b[0;34m\u001b[0m\u001b[0m\n\u001b[0;32m----> 6\u001b[0;31m \u001b[0mk\u001b[0m \u001b[0;34m=\u001b[0m \u001b[0;34m[\u001b[0m\u001b[0mprint\u001b[0m\u001b[0;34m(\u001b[0m\u001b[0;34m'*'\u001b[0m\u001b[0;34m*\u001b[0m\u001b[0mi\u001b[0m\u001b[0;34m)\u001b[0m \u001b[0;32mfor\u001b[0m \u001b[0mi\u001b[0m \u001b[0;32min\u001b[0m \u001b[0mlist\u001b[0m\u001b[0;34m(\u001b[0m\u001b[0mrange\u001b[0m\u001b[0;34m(\u001b[0m\u001b[0;36m1\u001b[0m\u001b[0;34m,\u001b[0m \u001b[0mn\u001b[0m\u001b[0;34m+\u001b[0m\u001b[0;36m1\u001b[0m\u001b[0;34m,\u001b[0m \u001b[0;36m1\u001b[0m\u001b[0;34m)\u001b[0m\u001b[0;34m)\u001b[0m\u001b[0;34m]\u001b[0m \u001b[0;31m# УДАЛОСЬ ГЕНЕРАТОРОМ!!!\u001b[0m\u001b[0;34m\u001b[0m\u001b[0;34m\u001b[0m\u001b[0m\n\u001b[0m\u001b[1;32m      7\u001b[0m \u001b[0;31m# ПОЧЕМУ ГЕНЕРАТОР ВЫДАЕТ ИМЕННО N - NONE если объявить без переменной???\u001b[0m\u001b[0;34m\u001b[0m\u001b[0;34m\u001b[0m\u001b[0m\n",
            "\u001b[0;31mTypeError\u001b[0m: 'list' object is not callable"
          ]
        }
      ]
    },
    {
      "cell_type": "code",
      "source": [
        "# 2.9\n",
        "\n",
        "num_list = [1, 10, 3, -5]\n",
        "num_list.sort()\n",
        "s=0\n",
        "for num in num_list:\n",
        "    print(f'element {s}: {num}')\n",
        "    s += 1"
      ],
      "metadata": {
        "id": "3azy4y3VTuPp"
      },
      "execution_count": null,
      "outputs": []
    },
    {
      "cell_type": "code",
      "source": [
        "# 2.10\n",
        "\n",
        "num_list = list(range(0, 100, 3))\n",
        "count_even = 0\n",
        "for num in num_list:\n",
        "    if num % 2 == 0:\n",
        "        count_even += 1\n"
      ],
      "metadata": {
        "id": "l_YjYGJrYP6Y"
      },
      "execution_count": null,
      "outputs": []
    },
    {
      "cell_type": "code",
      "source": [
        "# 2.11\n",
        "\n",
        "mixture_list = [True, 1, -10, 'hello', False, 'string_1', 123, 2.5, [1, 2], 'another']\n",
        "count_str = 0\n",
        "for elem in mixture_list:\n",
        "    if isinstance(elem, str):\n",
        "        count_str += 1"
      ],
      "metadata": {
        "id": "4-lLnfUTY6-w"
      },
      "execution_count": null,
      "outputs": []
    },
    {
      "cell_type": "code",
      "source": [
        "from io import TextIOBase\n",
        "# 2.12\n",
        "\n",
        "word_list = [\"My\", \"name\", \"is\", \"Sergei\", \"EOS\", \"I'm\", \"from\", \"Moscow\", \"EOS\"]\n",
        "text = ''\n",
        "for word in word_list:\n",
        "    text += f'{word} '\n",
        "#text = text.replace(\"EOS\", '.').replace(' . ', '. ')\n",
        "text = text.replace(\"EOS\", '.').strip()\n",
        "print(text)"
      ],
      "metadata": {
        "id": "KROPJyLBcjj_"
      },
      "execution_count": null,
      "outputs": []
    },
    {
      "cell_type": "code",
      "source": [
        "# 3.2 ЦИКЛЫ WHILE\n",
        "\n",
        "volume = 15\n",
        "H = 0 # объем воды в сосуде\n",
        "h = 3.3 # литра\n",
        "while H <= volume:\n",
        "    H += h\n",
        "cost = H - volume\n",
        "print(cost)"
      ],
      "metadata": {
        "id": "0zCa3BTTBIBk"
      },
      "execution_count": null,
      "outputs": []
    },
    {
      "cell_type": "code",
      "source": [
        "#3.3\n",
        "a = 1\n",
        "value = 10\n",
        "while a**2 <= value:\n",
        "    a += 1\n",
        "    print(f'проверяю число = {a}')\n",
        "print(f'\\n{a}')"
      ],
      "metadata": {
        "id": "6mVzsvADDyW9"
      },
      "execution_count": null,
      "outputs": []
    },
    {
      "cell_type": "code",
      "source": [
        "# 3.9\n",
        "\n",
        "x = 1\n",
        "while (x ** 2 % n) != 0:\n",
        "    x += 1\n",
        "print(x)\n",
        "\n"
      ],
      "metadata": {
        "id": "RUHw-F5JP7Z0"
      },
      "execution_count": null,
      "outputs": []
    },
    {
      "cell_type": "code",
      "source": [
        "# 3.10\n",
        "\n",
        "x = 0\n",
        "p = 1\n",
        "value = 1000\n",
        "while True:\n",
        "    p *= (x + 1)\n",
        "    if p > value:\n",
        "        break\n",
        "    else:\n",
        "        x += 1\n",
        "print(p)"
      ],
      "metadata": {
        "id": "gSLR8odNFgSW"
      },
      "execution_count": null,
      "outputs": []
    },
    {
      "cell_type": "code",
      "source": [
        "# 3.11\n",
        "\n",
        "money = 1000\n",
        "target_money = 3000\n",
        "year_count = 0\n",
        "pr = 1.08\n",
        "while money < target_money:\n",
        "    money *= pr\n",
        "    year_count += 1\n",
        "print(year_count)"
      ],
      "metadata": {
        "id": "QHMLGBMST2aT"
      },
      "execution_count": null,
      "outputs": []
    },
    {
      "cell_type": "code",
      "source": [
        "# 3.12\n",
        "\n",
        "health = 500\n",
        "damage = 80\n",
        "seconds_num = 0\n",
        "while health > 0:\n",
        "    health -= damage\n",
        "    seconds_num += 1\n",
        "print(seconds_num)"
      ],
      "metadata": {
        "id": "EgSzo3G_UmLs"
      },
      "execution_count": null,
      "outputs": []
    },
    {
      "cell_type": "code",
      "source": [
        "# 3.13 Числа Фибоначчи для чисел n >= 2\n",
        "\n",
        "n = 2\n",
        "# fibonacci_list = [1, 1, 2, 3, 5]\n",
        "fibonacci_list = [1, 1]\n",
        "while n > 2:\n",
        "    n -= 1\n",
        "    fibonacci_list.append(fibonacci_list[-1]+fibonacci_list[-2])\n",
        "print(fibonacci_list)"
      ],
      "metadata": {
        "id": "BGvLBrcdVzdZ"
      },
      "execution_count": null,
      "outputs": []
    },
    {
      "cell_type": "code",
      "source": [
        "# 4.4 вложенные списки. вложеные циклы for\n",
        "\n",
        "random_matrix = [\n",
        "    [9, 2, 1],\n",
        "    [2, 5, 3],\n",
        "    [4, 8, 5]\n",
        "]\n",
        "max_value_rows = []\n",
        "for list in random_matrix:\n",
        "    #print(list)\n",
        "    max = list[0]\n",
        "    for elem in list:\n",
        "        if elem > max:\n",
        "            max = elem\n",
        "    max_value_rows.append(max)\n",
        "print(max_value_rows)\n"
      ],
      "metadata": {
        "id": "34dAxRSiyQP1"
      },
      "execution_count": null,
      "outputs": []
    },
    {
      "cell_type": "code",
      "source": [
        "# 4.8 вложеные списки\n",
        "\n",
        "test_matrix = [\n",
        "    [1, 2, 3,  4],\n",
        "    [7, -1, 2, 5],\n",
        "    [123, 2, -1, 3],\n",
        "    [123, 5, 1]\n",
        "]\n",
        "h = len(test_matrix)\n",
        "for list in test_matrix:\n",
        "    if len(list) != h:\n",
        "        is_square = False\n",
        "        break\n",
        "    else:\n",
        "        is_square = True\n",
        "print(is_square)"
      ],
      "metadata": {
        "id": "Vi-U5wmeXrE1"
      },
      "execution_count": null,
      "outputs": []
    },
    {
      "cell_type": "code",
      "source": [
        "# 4.9 вложеные списки, температуру в +\n",
        "\n",
        "temp = [[25, 27, 28, 26, 27, -26, -25, -2, 26],\\\n",
        "        [21, 22, 28, 27, 28, 26, 25, 19, 26], \\\n",
        "        [-19, 21, 25, -27, 28, 25, 21, 20, 26]\n",
        "        ]\n",
        "for list in temp:\n",
        "    len_list = range(len(list))\n",
        "    for i in len:\n",
        "        if list[i] < 0:\n",
        "            list[i] = - list[i]\n",
        "print(temp)\n",
        "\n",
        "# После обработки\n",
        "## temp = [[25, 27, 28, 26, 27, 26, 25, 2, 26], [21, 22, 28, 27, 28, 26, 25, 19, 26], [19, 21, 25, 27, 28, 25, 21, 20, 26]]\n"
      ],
      "metadata": {
        "id": "DA_vqUsGsK5r"
      },
      "execution_count": null,
      "outputs": []
    },
    {
      "cell_type": "code",
      "source": [
        "# 4.9 вложеные списки, температуру в +. Второй вариант\n",
        "\n",
        "temp = [[25, 27, 28, 26, 27, -26, -25, -2, 26],\\\n",
        "        [21, 22, 28, 27, 28, 26, 25, 19, 26], \\\n",
        "        [-19, 21, 25, -27, 28, 25, 21, 20, 26]\n",
        "]\n",
        "for list in temp:\n",
        "    list[:] = [-i if i<0 else i for i in list] # переписывается список\n",
        "print(temp)"
      ],
      "metadata": {
        "id": "5qiGYuMyxHQZ"
      },
      "execution_count": null,
      "outputs": []
    },
    {
      "cell_type": "code",
      "source": [
        "# 4.10* Вложеные списки. Удовлетворенность клиентов 0-1\n",
        "\n",
        "customer_satisfaction = [\n",
        "    [0.87, 0.56, 0.77],\n",
        "    [0.22, 0.46, 0.56, 0.89, 0.95],\n",
        "    [0.45, 0.44, 0.68],\n",
        "    [0.73, 0.88, 0.95, 0.49]\n",
        "]\n",
        "month_satisfaction = [] # среднее значение листа\n",
        "max_satisfaction = float()\n",
        "\n",
        "for list in customer_satisfaction:\n",
        "    summ_satisfaction = float()\n",
        "    count_elem = 0\n",
        "    for elem in list:\n",
        "        count_elem += 1\n",
        "        summ_satisfaction += elem\n",
        "        satisfaction = round(summ_satisfaction/count_elem, 2)\n",
        "    month_satisfaction.append(satisfaction)\n",
        "    if satisfaction > max_satisfaction:\n",
        "        max_satisfaction = satisfaction\n",
        "\n",
        "print(max_satisfaction)\n",
        "print(month_satisfaction)\n"
      ],
      "metadata": {
        "id": "BhDHAio82soD"
      },
      "execution_count": null,
      "outputs": []
    },
    {
      "cell_type": "code",
      "source": [
        "# 5.3 самопроверка. enumerate()\n",
        "\n",
        "user_dynamics = [-5, 2, 4, 8, 12, -7, 5]\n",
        "number_negative = None #объявляем переменную, в которой будем хранить номер последнего дня оттока, изначально она пустая (None)\n",
        "#создаём цикл по элементам последовательности от 0 до N (не включая N)\n",
        "for index, value in enumerate(user_dynamics):\n",
        "    if value < 0:\n",
        "        number_negative = index + 1\n",
        "        print(\"Churn value: \", value) # выводим количество ушедших в этот день пользователей\n",
        "        print(\"Number day: \", number_negative) # выводим номер дня\n",
        "#print('_-----------------БЫЛО - то что ниже--------------------_')\n",
        "#user_dynamics = [-5, 2, 4, 8, 12, -7, 5]\n",
        "#number_negative = None\n",
        "#N = len(user_dynamics)\n",
        "#for i in range(N): # i — индекс текущего элемента\n",
        "    #проверяем условие оттока — текущий элемент отрицательный\n",
        "#    if user_dynamics[i] < 0: #если условие истинно,\n",
        "#        number_negative = i+1  #перезаписываем значение номера дня\n",
        "#        print(\"Churn value: \", user_dynamics[i]) # выводим количество ушедших в этот день пользователей\n",
        "#        print(\"Number day: \", number_negative) # выводим номер дня"
      ],
      "metadata": {
        "id": "SbwKvP-jDetR"
      },
      "execution_count": null,
      "outputs": []
    },
    {
      "cell_type": "code",
      "source": [
        "# 5.5\n",
        "\n",
        "str_list = ['Hello', 'my', 'name', 'is', 'Ezeikel', 'I', 'like', 'knitting']\n",
        "# cut_str_list = [[0, 'Hel'], [1, 'my'], [2, 'nam'], [3, 'is'], [4, 'Eze'], [5, 'I'], [6, 'lik'], [7, 'kni']]\n",
        "cut_str_list = []\n",
        "for index, value in enumerate(str_list):\n",
        "    cut = [index, value[:3:]] # срез\n",
        "    cut_str_list.append(cut)\n",
        "print(cut_str_list)"
      ],
      "metadata": {
        "id": "nuHTs7MHFeKR"
      },
      "execution_count": null,
      "outputs": []
    },
    {
      "cell_type": "code",
      "source": [
        "# 5.7\n",
        "# Гипотеза Сиракуз заключается в том, что любое натуральное число n можно свести к 1, если повторять над ним следующие действия:\n",
        "n = 19\n",
        "origin = n\n",
        "# Создаём бесконечный цикл\n",
        "\n",
        "while True:\n",
        "    # Ваш код здесь\n",
        "    if origin % 2 == 0:\n",
        "        origin = origin // 2\n",
        "\n",
        "\n",
        "\n",
        "    # Проверяем, что результат равен 1\n",
        "    if origin == 1:\n",
        "        # Если условие выполняется, выводим утвердительное сообщение.\n",
        "        print(f'Syracuse hypothesis holds for number {origin}')\n",
        "\n",
        "\n",
        "        # Ваш код здесь\n",
        "        break\n",
        "    elif origin % 2 != 0:\n",
        "        origin = (origin * 3 +1) // 2\n"
      ],
      "metadata": {
        "id": "aviG_7eG16y5"
      },
      "execution_count": null,
      "outputs": []
    },
    {
      "cell_type": "code",
      "source": [
        "# 5.10 continue. сколько значений в словаре mixture_dict являются числами.\n",
        "\n",
        "mixture_dict = {'a': 15, 'b': 10.5, 'c': '15', 'd': 50, 'e': 15, 'f': '15'}\n",
        "count_numbers = 0\n",
        "for kl in mixture_dict:\n",
        "    if str(mixture_dict[kl]) is mixture_dict[kl]:\n",
        "        continue\n",
        "    else:\n",
        "        count_numbers += 1\n",
        "print(count_numbers)\n",
        "\n"
      ],
      "metadata": {
        "id": "7GH6lj1QWmj1"
      },
      "execution_count": null,
      "outputs": []
    },
    {
      "cell_type": "code",
      "source": [
        "# 5.11 Разбить текст\n",
        "text = \"\"\"\n",
        "*-+She sells sea shells on the sea shore;\n",
        "The shells that she sells are sea shells I am sure.\n",
        "So if she sells sea shells on the sea shore,\n",
        "I am sure that the shells are sea shore shells.\n",
        "\"\"\"\n",
        "\n",
        "point = '.'\n",
        "comma = ','\n",
        "semicolon = ';'\n",
        "question = '?'\n",
        "exclamation = '!'\n",
        "dash = '—'\n",
        "\n",
        "count_punctuation = {point: 0, comma: 0, semicolon: 0, question: 0, exclamation: 0, dash: 0}\n",
        "text = text.replace(' ', '').replace('\\n', '')\n",
        "for el in text:\n",
        "    try:\n",
        "        if not el.isalnum():\n",
        "            count_punctuation[el] += 1\n",
        "    except KeyError:\n",
        "        continue\n",
        "print(count_punctuation)"
      ],
      "metadata": {
        "id": "sZZMn4KJs-k_"
      },
      "execution_count": null,
      "outputs": []
    },
    {
      "cell_type": "code",
      "source": [
        "# 5.12 Разбить текст\n",
        "\n",
        "sentence = 'A roboT MAY Not injure a humAn BEING or, tHROugh INACtion, allow a human BEING to come to harm.'\n",
        "sentence = sentence.replace('.', '').replace(',', '')\n",
        "sentence = sentence.lower().split(' ')\n",
        "word_dict = dict()\n",
        "for el in sentence:\n",
        "    if el not in word_dict:\n",
        "        word_dict[el] = 1\n",
        "    else:\n",
        "        word_dict[el] += 1\n",
        "print(word_dict)"
      ],
      "metadata": {
        "id": "1c-g05Il2b8-"
      },
      "execution_count": null,
      "outputs": []
    },
    {
      "cell_type": "code",
      "source": [
        "# 5.13 счет количества вхождений  символа в каждую из строк списка\n",
        "\n",
        "str_list = [\"text\", \"morning\", \"notepad\", \"television\", \"ornament\"]\n",
        "symbol_to_check = 't'\n",
        "str_tuple = tuple(str_list)\n",
        "\n",
        "word_dict = dict()  # удалять нельзя\n",
        "for el in str_tuple:  # создаем словарь\n",
        "    word_dict[el] = 0\n",
        "    for i in el:\n",
        "        if i == symbol_to_check:\n",
        "            word_dict[el] += 1\n",
        "print(word_dict)"
      ],
      "metadata": {
        "id": "F51ACp9H48I5"
      },
      "execution_count": null,
      "outputs": []
    },
    {
      "cell_type": "code",
      "source": [
        "# 3.1 Функции/ работа с исключениясм\n",
        "def get_time(distance, speed):\n",
        "    if distance < 0 or speed < 0:\n",
        "        raise ValueError(\"Distance or speed cannot be below 0!\")\n",
        "    if speed == 0:\n",
        "        raise ValueError('Speed cannot be equal to 0!')\n",
        "    result = distance / speed\n",
        "    return result\n",
        "get_time(100, 0)\n"
      ],
      "metadata": {
        "id": "YJ0Xzo38Ae0D"
      },
      "execution_count": null,
      "outputs": []
    },
    {
      "cell_type": "code",
      "source": [
        "# 5.2 на самопроверку. РАСПАКОВКА *\n",
        "langs = ['Python', 'SQL', 'Machine Learning', 'Statistics']\n",
        "# Будет напечатано:                                при langs\n",
        "# ['Python', 'SQL', 'Machine Learning', 'Statistics']\n",
        "# Python SQL Machine Learning Statistics           при *langs\n",
        "#for i in langs:\n",
        "#    print(i, end= ', ')\n",
        "print(*langs, sep=', ')"
      ],
      "metadata": {
        "id": "Pyle6ghrQQux"
      },
      "execution_count": null,
      "outputs": []
    },
    {
      "cell_type": "code",
      "source": [
        "def mean_mark(name, *marks):\n",
        "    result = sum(marks) / len(marks)\n",
        "    # Не возвращаем результат, а печатаем его\n",
        "    print(name+':', result)\n",
        "marks = [4,5,5,5,5,3,4,4,5,4,5]\n",
        "mean_mark(marks, name = 'Kuznetsov')\n"
      ],
      "metadata": {
        "id": "A_r2RHRAXLq3"
      },
      "execution_count": null,
      "outputs": []
    },
    {
      "cell_type": "code",
      "source": [
        "# ЛЯМБДА ФУНЦИЯ, пример с сортировкой\n",
        "new_list = ['bbb', 'ababa','aaa', 'aaaaa',  'cc']\n",
        "new_list.sort(key=lambda word: (len(word), word))\n",
        "print(new_list)\n",
        "# Будет напечатано:\n",
        "# ['cc', 'aaa', 'bbb', 'aaaaa', 'ababa']"
      ],
      "metadata": {
        "id": "iKtL5rqXpz2i"
      },
      "execution_count": null,
      "outputs": []
    },
    {
      "cell_type": "code",
      "source": [
        "# ЛЯМБДА ФУНЦИЯ, пример с сортировкой\n",
        "def sort_sides(l_in):\n",
        "   l_in.sort(key=lambda l_in: (l_in[0]**2 + l_in[1]**2 ) ** 1/2)\n",
        "   return l_in\n",
        "\n",
        "print(sort_sides(l_in = [(3, 4)]))\n"
      ],
      "metadata": {
        "id": "AsK20-l4qQOk"
      },
      "execution_count": null,
      "outputs": []
    },
    {
      "cell_type": "code",
      "source": [
        "# 7,9 повторение, можно ли лямбдой?\n",
        "\n",
        "def get_less(list_in, num):\n",
        "    for n in list_in:\n",
        "        if num > n:\n",
        "            return n\n",
        "\n",
        "\n",
        "print(get_less([1, 5, 8,  10], 0))"
      ],
      "metadata": {
        "id": "dBe4ayytjpyq"
      },
      "execution_count": null,
      "outputs": []
    },
    {
      "cell_type": "code",
      "source": [
        "# 7.10\n",
        "\n",
        "def split_date(date):\n",
        "    d = int(date[:2])\n",
        "    m = int(date[2:4])\n",
        "    y = int(date[4::])\n",
        "    return (d,m,y)\n",
        "print(split_date(\"31012019\"))\n",
        "# (31, 1, 2019)"
      ],
      "metadata": {
        "id": "en3Lo6OxlMUj"
      },
      "execution_count": null,
      "outputs": []
    },
    {
      "cell_type": "code",
      "source": [
        "# 7.11 ПРОВЕРКА ЧИСЛА НА ПРОСТОТУ\n",
        "\n",
        "def is_prime(num):\n",
        "    # Negative numbers, 0 and 1 are not primes\n",
        "    if num > 1:\n",
        "\n",
        "        # Iterate from 2 to n // 2\n",
        "        for i in range(2, (num//2)+1):\n",
        "\n",
        "            # If num is divisible by any number between\n",
        "            # 2 and n / 2, it is not prime\n",
        "            if (num % i) == 0:\n",
        "                return False\n",
        "                break\n",
        "        else:\n",
        "            return True\n",
        "    else:\n",
        "        return False\n",
        "print(is_prime(13))"
      ],
      "metadata": {
        "id": "QcG3hOHCoKsL"
      },
      "execution_count": null,
      "outputs": []
    },
    {
      "cell_type": "code",
      "source": [
        "# 7.12\n",
        "def between_min_max(*nums):\n",
        "    min, max = nums[0], nums[-1]\n",
        "    for n in nums:\n",
        "        if n > max:\n",
        "            max = n\n",
        "        elif n < min:\n",
        "            min = n\n",
        "    return (min+max)/2\n",
        "\n",
        "print(between_min_max(10))\n",
        "print(between_min_max(1,2,3,4,5))\n",
        "# 10.0\n",
        "# 3.0"
      ],
      "metadata": {
        "id": "S591-M7LrqDL"
      },
      "execution_count": null,
      "outputs": []
    },
    {
      "cell_type": "code",
      "source": [
        "#  7.13\n",
        "def  best_student(**dict_):\n",
        "    min = None\n",
        "    name = str()\n",
        "    for i in dict_:\n",
        "        if min == None:\n",
        "            min = dict_[i]\n",
        "            name = i\n",
        "            continue\n",
        "        elif dict_[i] < min:\n",
        "            min = dict_[i]\n",
        "            name = i\n",
        "    return name\n",
        "\n",
        "\n",
        "\n",
        "print(best_student(Tom = 12, Jerry = 1, Jane = 2))"
      ],
      "metadata": {
        "id": "ykApbM-I_bRR"
      },
      "execution_count": null,
      "outputs": []
    },
    {
      "cell_type": "code",
      "source": [
        "# 7.14 Лямбда функция\n",
        "is_palindrom = lambda x : 'yes' if x == x[::-1] else 'no'\n",
        "\n",
        "print(is_palindrom('12321'))\n",
        "print(is_palindrom('1234'))"
      ],
      "metadata": {
        "id": "IWFcYgWqMvYD"
      },
      "execution_count": null,
      "outputs": []
    },
    {
      "cell_type": "code",
      "source": [
        "# 7.15 Лямбда функция\n",
        "area =lambda a,b : a * b\n",
        "print(area(12,5))"
      ],
      "metadata": {
        "id": "76pQP0uPNRvR"
      },
      "execution_count": null,
      "outputs": []
    },
    {
      "cell_type": "code",
      "source": [
        "# 7.16... ИЗ 7.12 сделать ЛЯМБДУ\n",
        "\n",
        "\"\"\"def between_min_max(*nums):\n",
        "    min, max = nums[0], nums[-1]\n",
        "    for n in nums:\n",
        "        if n > max:\n",
        "            max = n\n",
        "        elif n < min:\n",
        "            min = n\n",
        "    return (min+max)/2\n",
        "\n",
        "print(between_min_max(10))\n",
        "print(between_min_max(1,2,3,4,5))\n",
        "# 10.0\n",
        "# 3.0\"\"\"\n",
        "\n",
        "between_min_max = lambda *x : (min(x) + max(x)) / 2\n",
        "\n",
        "print(between_min_max(1,2,3,4,5))\n",
        "# 3.0\n"
      ],
      "metadata": {
        "id": "txPzbTV3O_d5"
      },
      "execution_count": null,
      "outputs": []
    },
    {
      "cell_type": "code",
      "source": [
        "# 7.17 функция сортировщик (2)\n",
        "def sort_ignore_case(ls):\n",
        "    ls.sort(key = lambda word: word.lower()) # ворд подается из параметра key\n",
        "    return ls\n",
        "#print(sort_ignore_case(['Acc', 'abc']))\n",
        "# ['abc', 'Acc']\n",
        "\n",
        "def equalize_lengths(ls):\n",
        "    ls.sort(key = lambda word: -len(word)) # СОРТИРУЕТ ПО ДЛИНЕ СТРОКИ\n",
        "    max_in_ls = max(map(lambda ls: len(ls), ls))\n",
        "    func = lambda word: word + '_' * (max_in_ls-len(word)) if len(word) < max_in_ls else word\n",
        "    lst = list(map(func, ls))\n",
        "    return lst\n",
        "\n",
        "print(equalize_lengths(['крот', 'белка', 'выхухоль']))\n",
        "# ['выхухоль', 'белка', 'крот'] # ЗАДАЧА ДОЗАПОЛНИТЬ РАЗНИЦУ ДЛИН СТРОК"
      ],
      "metadata": {
        "id": "BTGuqTQWQiaX",
        "colab": {
          "base_uri": "https://localhost:8080/"
        },
        "outputId": "097f5125-a907-46f3-8b57-1016c892387c"
      },
      "execution_count": null,
      "outputs": [
        {
          "output_type": "stream",
          "name": "stdout",
          "text": [
            "['выхухоль', 'белка___', 'крот____']\n"
          ]
        }
      ]
    },
    {
      "cell_type": "code",
      "source": [
        "# 7.18 функция высчитыватель\n",
        "def exchange(usd = (None, 'usd'), rub = (None, 'rub'), rate = (None, 'rate')):\n",
        "    count = 0\n",
        "    given = []\n",
        "    target = None\n",
        "    for i in [usd, rub, rate]:\n",
        "        if type(i) is tuple:\n",
        "            target = i[1]\n",
        "        else:\n",
        "            count += 1\n",
        "            given.append(i)\n",
        "    if count == 3:\n",
        "        raise ValueError('Too many arguments')\n",
        "    elif count < 2:\n",
        "        raise ValueError('Not enough arguments')\n",
        "    if target == 'rate':\n",
        "        result = given[1] / given[0]\n",
        "    elif target == 'usd':\n",
        "        result = given[0] / given[1]\n",
        "    else:\n",
        "        result = given[0] * given[1]\n",
        "    return result\n",
        "\n",
        "'''print(exchange(usd=100, rub=8500))\n",
        "# 85.0\n",
        "print(exchange(usd=100, rate=85))\n",
        "# 8500\n",
        "print(exchange(rub=1000, rate=85))\n",
        "# 11.764705882352942\n",
        "\n",
        "print(exchange(usd = 12, rub = 24, rate = 10))\n",
        "print(exchange(usd = 12))'''"
      ],
      "metadata": {
        "id": "Hnp12SvnS9uu"
      },
      "execution_count": null,
      "outputs": []
    },
    {
      "cell_type": "code",
      "source": [
        "a"
      ],
      "metadata": {
        "id": "G9lxhC5_to2g"
      },
      "execution_count": null,
      "outputs": []
    },
    {
      "cell_type": "code",
      "source": [
        "# 2.3 работа с функциями\n",
        "\n",
        "def get_count_unique_symbols(text):\n",
        "    text = text.lower().replace(' ', '')\n",
        "    text_set = set(text)\n",
        "    count_set = len(text_set)\n",
        "    return count_set\n",
        "get_count_unique_symbols('Это простая строка')\n",
        "## 9\n",
        "get_count_unique_symbols('This is a simple string')\n",
        "## 12"
      ],
      "metadata": {
        "id": "-QsDcQYIszzr"
      },
      "execution_count": null,
      "outputs": []
    },
    {
      "cell_type": "code",
      "source": [
        "def get_min_string(s1, s2):\n",
        "    def get_count_unique_symbols(text):\n",
        "        text = text.lower().replace(' ', '')\n",
        "        text_set = set(text)\n",
        "        count_set = len(text_set)\n",
        "        return count_set\n",
        "    len_s1 = get_count_unique_symbols(s1)\n",
        "    len_s2 = get_count_unique_symbols(s2)\n",
        "    if len_s1 < len_s2:\n",
        "        result = s1\n",
        "    elif len_s1 == len_s2:\n",
        "        result = (s1, s2)\n",
        "    else:\n",
        "        result = s2\n",
        "    return result\n",
        "print(get_min_string(s1='школа', s2='school'))\n",
        "    ## ('школа', 'school')\n",
        "print(get_min_string(s1='Отличная фраза', s2='Great phrase'))\n",
        "    ## Great phrase"
      ],
      "metadata": {
        "id": "pWBx_YacwL4n"
      },
      "execution_count": null,
      "outputs": []
    },
    {
      "cell_type": "code",
      "source": [
        "# 2.9 Области видимости функций\n",
        "\n",
        "pi = 3.1416\n",
        "def calculate_area_circle(r):\n",
        "    s = round(pi * r * r, 3)\n",
        "    return s\n",
        "def calculate_area_ellipse(a, b):\n",
        "    s = round(pi * a * b, 3)\n",
        "    return s\n",
        "print(calculate_area_circle(r=5))\n",
        "## 78.54\n",
        "print(calculate_area_ellipse(a=3, b=2.5))\n",
        "## 23.562"
      ],
      "metadata": {
        "id": "SurbnNGpqd9_"
      },
      "execution_count": null,
      "outputs": []
    },
    {
      "cell_type": "code",
      "source": [
        "# 3.2 Область видимости\n",
        "\n",
        "def cash(less_money):\n",
        "\n",
        "    global money\n",
        "    money -= less_money\n",
        "    return money\n",
        "\n",
        "money = 200000\n",
        "print(cash(1000))\n",
        "## 199000\n",
        "\n",
        "money = 30240\n",
        "print(cash(240))\n",
        "## 30000"
      ],
      "metadata": {
        "id": "GR6p42RNwMS-"
      },
      "execution_count": null,
      "outputs": []
    },
    {
      "cell_type": "code",
      "source": [
        "# 3.3 Область видимости. избавляемся от global\n",
        "\n",
        "# Словарь с курсами валют (по отношению к рублю)\n",
        "currencies = {'USD': 74, 'EUR': 88, 'GBP': 98 , 'CHF': 82}\n",
        "# Общее количество денег на счету, которое нужно конвертировать\n",
        "money = 100000\n",
        "# Функция для конвертации валюты, аргумент - наименование валюты\n",
        "def convert(currencies, money, val):\n",
        "    # Объявляем, что money - глобальная переменная\n",
        "\n",
        "    # Производим конвертацию - делим количество денег на счету на соответствующий курс\n",
        "    money /= currencies[val]\n",
        "    return money\n",
        "\n",
        "# Вызываем функцию для конвертации валюты\n",
        "print(convert(currencies, money, 'USD'))"
      ],
      "metadata": {
        "id": "2wwAe9rnyyF6"
      },
      "execution_count": null,
      "outputs": []
    },
    {
      "cell_type": "code",
      "source": [
        "# 3.5 Область видимости\n",
        "\n",
        "# Функция для вычисления количества символов (symbol) в строке s\n",
        "def count_occurrences(s, symbol):\n",
        "    # Внутренняя функция для предобработки строки s\n",
        "    def preprocessing_s():\n",
        "        nonlocal s\n",
        "        # Удаляем пробелы из строки\n",
        "        s = s.replace(' ', '')\n",
        "        # Приводим строку к нижнему регистру\n",
        "        s = s.lower()\n",
        "\n",
        "    # Вызываем функцию для предобработки аргумента s\n",
        "    preprocessing_s()\n",
        "    # Считаем количество символов symbol в строке s и возвращаем результат\n",
        "\n",
        "    return s.count(symbol)\n",
        "\n",
        "count_occurrences('This is simple string', symbol='t')"
      ],
      "metadata": {
        "id": "AtfrlFrF2TQ5"
      },
      "execution_count": null,
      "outputs": []
    },
    {
      "cell_type": "code",
      "source": [
        "# 3.7 Область видимости\n",
        "# Создаём новый пустой словарь\n",
        "advertising_campaigns = {'ютуб': [212, 248], 'вк': [514, 342], 'радио': [339, 125]}\n",
        "\n",
        "advertising_campaigns_max = {}\n",
        "# Создаём цикл по ключам исходного словаря\n",
        "for key in advertising_campaigns:\n",
        "    # Вычисляем максимум в списке, лежащем по ключу key\n",
        "    max9 = max(advertising_campaigns[key])\n",
        "    # Добавляем максимум в новый словарь\n",
        "    advertising_campaigns_max[key] = max9\n",
        "print(advertising_campaigns_max)"
      ],
      "metadata": {
        "id": "3W26WcFb2emE"
      },
      "execution_count": null,
      "outputs": []
    },
    {
      "cell_type": "code",
      "source": [
        "\n",
        "def check_date(day, month, year):\n",
        "    def is_leap(year):\n",
        "        if year % 400 == 0:\n",
        "            return True\n",
        "        elif year % 100 == 0:\n",
        "            return False\n",
        "        elif year % 4 == 0:\n",
        "            return True\n",
        "        else:\n",
        "            return False\n",
        "\n",
        "    # Проверяем день, месяц и год на целочисленность\n",
        "    if (type(day) is not int) or (type(month) is not int) or (type(year) is not int):\n",
        "        return False\n",
        "    # Проверяем год на заданный диапазон\n",
        "    if (year <= 1900) or (year >= 2022):\n",
        "        return True\n",
        "    # Проверяем месяц на заданный диапазон\n",
        "    if (month < 1) or (month > 12):\n",
        "        return False\n",
        "    # Проверяем день на заданный диапазон\n",
        "    if (day < 1) or (day > 31):\n",
        "        return False\n",
        "    # Проверяем апрель, июнь, сентябрь и ноябрь на количество дней\n",
        "    if (month in [4,6,9,11]) and (day > 30):\n",
        "        return False\n",
        "    # Проверяем количество дней в феврале\n",
        "    if not is_leap(year) and month == 2 and day > 28:\n",
        "        return False\n",
        "    elif is_leap(year) and month == 2 and day > 29:\n",
        "        return False\n",
        "    return True\n",
        "\n",
        "print(check_date(29, 2, 2000))"
      ],
      "metadata": {
        "id": "XMsk2R-R4xBZ"
      },
      "execution_count": null,
      "outputs": []
    },
    {
      "cell_type": "code",
      "source": [
        "# 4.9 Практика\n",
        "\n",
        "def circle(p1, p2):\n",
        "    def radius(p1, p2):\n",
        "        x1, y1 = p1\n",
        "        x2, y2 = p2\n",
        "        return ((x2-x1)**2+(y2-y1)**2)**0.5\n",
        "    r = radius(p1,p2)\n",
        "    def calculate_circumference():\n",
        "        p = round(2* pi  * r, 3)\n",
        "        return p\n",
        "    l = calculate_circumference()\n",
        "    def calculate_area_circle():\n",
        "        s = round(pi  * r * r, 3)\n",
        "        return s\n",
        "    s = calculate_area_circle()\n",
        "    r_ = round(r, 3)\n",
        "    return {'radius': r_, 'circumference': l, 'area': s}\n",
        "\n",
        "pi = 3.1416\n",
        "print(circle(p1=(3, 2.5), p2=(4, 4.5)))\n",
        "## {'radius': 2.236, 'circumference': 14.05, 'area': 15.708}\n",
        "\n",
        "pi = 3.1416\n",
        "print(circle(p1=(0, 0), p2=(1, 1)))\n",
        "## {'radius': 1.414, 'circumference': 8.886, 'area': 6.283}\n"
      ],
      "metadata": {
        "id": "Hb16hYnWtpJp"
      },
      "execution_count": null,
      "outputs": []
    },
    {
      "cell_type": "code",
      "source": [
        "#5.0# ПРАКТИКА\n",
        "\n",
        "def ellipse(p1, p2, p3):\n",
        "    def semi_axes():\n",
        "        x1, y1 = p1\n",
        "        x2, y2 = p2\n",
        "        x3, y3 = p3\n",
        "        a = ((x2-x1)**2+(y2-y1)**2)**0.5\n",
        "        b = ((x3-x1)**2+(y3-y1)**2)**0.5\n",
        "        return a, b\n",
        "    a, b = semi_axes()\n",
        "    def calculate_area_ellipse():\n",
        "        s = pi*a*b\n",
        "        return round(s,3)\n",
        "    s = calculate_area_ellipse()\n",
        "    def calculate_length_ellipse():\n",
        "        l = 2 *pi *((a**2+b**2)/2)**0.5\n",
        "        return round(l, 3)\n",
        "    l = calculate_length_ellipse()\n",
        "    a_ = round(a,3)\n",
        "    b_ = round(b, 3)\n",
        "    return {'a': a_, 'b': b_, 'length': l, 'area': s}\n",
        "\n",
        "pi = 3.1416\n",
        "print(ellipse(p1=(3, 2.5), p2=(4.5, 2.5), p3=(3, 3.5)))\n",
        "\n",
        "## {'a': 1.5, 'b': 1.0, 'length': 8.01, 'area': 4.712}\n",
        "\n",
        "pi = 3.1416\n",
        "print(ellipse(p1=(0, 0), p2=(0, 1), p3=(1, 0)))\n",
        "\n",
        "## {'a': 1.0, 'b': 1.0, 'length': 6.283, 'area': 3.142}\n",
        "\n",
        "pi = 3.14\n",
        "print(ellipse(p1=(0, 0), p2=(0, 1), p3=(1, 0)))\n",
        "## {'a': 1.0, 'b': 1.0, 'length': 6.28, 'area': 3.14}"
      ],
      "metadata": {
        "id": "u8S6NhccxLmc"
      },
      "execution_count": null,
      "outputs": []
    },
    {
      "cell_type": "code",
      "source": [
        "# 5.5 РЕКУРСИЯ\n",
        "\n",
        "def inv_sum_list(lst):\n",
        "    if not lst:\n",
        "        return 0\n",
        "\n",
        "    return 1/lst[0] + inv_sum_list(lst[1::])\n",
        "\n",
        "print(inv_sum_list([10, 4, 8]))\n",
        "## 0.475"
      ],
      "metadata": {
        "id": "hhdXy36zxsAA"
      },
      "execution_count": null,
      "outputs": []
    },
    {
      "cell_type": "code",
      "source": [
        "# Закрепление рекурсии. ФАКТОРИАЛ. СОЧЕТАНИЕ \"C=n!/((n-k)!*k!)\"\n",
        "\n",
        "def combination(n, k):\n",
        "    def factorial(x):\n",
        "        if x == 0: return 1\n",
        "        if x == 1: return 1\n",
        "        return x * factorial(x-1)\n",
        "    result = factorial(n)/ factorial(n-k) / factorial(k)\n",
        "    return result\n",
        "\n",
        "print(combination(n=10, k=5))\n",
        "## 252.0\n",
        "print(combination(n=12, k=3))\n",
        "## 220.0\n",
        "print(combination(n=1, k=1))\n",
        "## 1.0\n",
        "print(combination(n=0, k=0))\n",
        "## 1.0"
      ],
      "metadata": {
        "id": "mbtdvhPj8CLW"
      },
      "execution_count": null,
      "outputs": []
    },
    {
      "cell_type": "code",
      "source": [
        "# РЕКУРСИЯ. Число фибоначи\n",
        "\n",
        "def fib(n):\n",
        "    if n == 1: return 1\n",
        "    if n == 2: return 1\n",
        "    return fib(n-1)+fib(n-2)"
      ],
      "metadata": {
        "id": "BLqMrZwIAEum"
      },
      "execution_count": null,
      "outputs": []
    },
    {
      "cell_type": "code",
      "source": [
        "# РЕКУРСИЯ. ЗАДАЧА ДЛЯ СОБЕСЕДОВАНИЯ\n",
        "\n",
        "def add_brackets(s):\n",
        "    # Проверяем условие остановки: строка состоит из одного или двух символов\n",
        "    if len(s) == 1 or len(s) == 2:\n",
        "        # Возвращаем эти символы\n",
        "        return s\n",
        "    # В противном случае:\n",
        "    # «Отщипываем» от строки первый и последний символы,\n",
        "    # добавляем к ним скобки, а также результат вызова функции, в которую\n",
        "    # передаем строку без первого и последнего символов\n",
        "    return s[0] + '(' + add_brackets(s[1:-1]) + ')' + s[-1]\n",
        "print(add_brackets('example'))\n",
        "print(add_brackets('carr'))\n",
        "print(add_brackets('hello'))\n",
        "\n",
        "## Будет выведено:\n",
        "## e(x(a(m)p)l)e\n",
        "## c(ar)r\n",
        "## h(e(l)l)o"
      ],
      "metadata": {
        "id": "xX6V0y27G89O"
      },
      "execution_count": null,
      "outputs": []
    },
    {
      "cell_type": "code",
      "source": [
        "#РЕКУРСИЯ. СЛОЖНАЯ ЗАДАЧКА\n",
        "def add_asterisk(s):\n",
        "    if len(s) == 1:\n",
        "        return s\n",
        "    if len(s) == 2:\n",
        "        return s[0] + '*' + s[-1]\n",
        "    return s[0] + '*' + add_asterisk(s[1:-1]) + '*' + s[-1]\n",
        "\n",
        "print(add_asterisk('hello'))\n",
        "## h*e*l*l*o\n",
        "print(add_asterisk('LItBeoFLcSGBOFQxMHoIuDDWcqcVgkcRoAeocXO'))\n",
        "## L*I*t*B*e*o*F*L*c*S*G*B*O*F*Q*x*M*H*o*I*u*D*D*W*c*q*c*V*g*k*c*R*o*A*e*o*c*X*O\n",
        "print(add_asterisk('gkafkafkKdaflkfa'))\n",
        "## g*k*a*f*k*a*f*k*K*d*a*f*l*k*f*a"
      ],
      "metadata": {
        "id": "CltPdp_cG2on"
      },
      "execution_count": null,
      "outputs": []
    },
    {
      "cell_type": "code",
      "source": [
        "# ПИЗДЕЦ А НЕ ЗАДАЧА. КРУТАЯ РЕКУРСИЯ!!!!!!!!!!!!!!!!!!!!!!!!!!!!!!!!!!!!!!!!!!!!!!!!!!!!!!!!!!!!!!!!\n",
        "\n",
        "# Функция для выпрямления списка\n",
        "def flatten(lst):\n",
        "    # Создаём новый пустой список\n",
        "    result = []\n",
        "    # Создаём цикл по элементам списка\n",
        "    for elem in lst:\n",
        "        # Если элемент списка является списком,\n",
        "        if type(elem) is list:\n",
        "            # Применяем к нему функцию выпрямления и добавляем элементы к результату\n",
        "            result += flatten(elem)\n",
        "        else: # Если элемент не является списоком,\n",
        "            # Добавляем элемент в новый список\n",
        "            result.append(elem)\n",
        "    return result\n",
        "matrix = [\n",
        "    [1, 1, 0],\n",
        "    [4, 2, 1],\n",
        "    [0, 2, 1]\n",
        "]\n",
        "print(flatten(matrix))\n",
        "## Будет выведено:\n",
        "## [1, 1, 0, 4, 2, 1, 0, 2, 1]\n",
        "\n",
        "matrix = [\n",
        "    [1, 1, [5, 10, 34, [24, 1, 0]]],\n",
        "    [4, [9, 8, 10], 1],\n",
        "    [0, 2, 1]\n",
        "]\n",
        "print(flatten(matrix))\n",
        "## Будет выведено:\n",
        "## [1, 1, 5, 10, 34, 24, 1, 0, 4, 9, 8, 10, 1, 0, 2, 1]\n",
        "\n"
      ],
      "metadata": {
        "id": "MsfV4sMILeSD"
      },
      "execution_count": null,
      "outputs": []
    },
    {
      "cell_type": "code",
      "source": [
        "# РЕКУРСИЯ/подобная задача на сумму матрицы\n",
        "\n",
        "def sum_list(n):\n",
        "    sum = 0\n",
        "    for i in n:\n",
        "        if type(i) is list:\n",
        "            sum += sum_list(i)\n",
        "        else:\n",
        "            sum += i\n",
        "    return sum\n",
        "\n",
        "matrix = [\n",
        "    [1, 1, 0],\n",
        "    [4, 2, 1],\n",
        "    [0, 2, 1]\n",
        "]\n",
        "print(sum_list(matrix))\n",
        "## 12\n",
        "\n",
        "matrix = [\n",
        "    [1, 1, [1, 2, 3], 0],\n",
        "    [4, 2, 1, [10, 52, 2]],\n",
        "    [0, 2, 1]\n",
        "]\n",
        "print(sum_list(matrix))\n",
        "## 82"
      ],
      "metadata": {
        "id": "ZzLCZftdNIle"
      },
      "execution_count": null,
      "outputs": []
    },
    {
      "cell_type": "code",
      "source": [
        "\n",
        "forum_messages = {\n",
        "    1: {'parrent_link': None, 'child_link': [3, 4]},\n",
        "    2: {'parrent_link': None, 'child_link': [5]},\n",
        "    3: {'parrent_link': 1, 'child_link': [6]},\n",
        "    4: {'parrent_link': 1, 'child_link': []},\n",
        "    5: {'parrent_link': 2, 'child_link': []},\n",
        "    6: {'parrent_link': 3, 'child_link': []}\n",
        "}\n",
        "# Функция для удаления сообщения на форуме и всех его потомков\n",
        "def delete_message(messages, msg_id):\n",
        "    # Удаляем из словаря сообщение с идентификатором msg_id\n",
        "    # Метод pop() возвращает значение, лежащее по удаляемому ключу\n",
        "    result = messages.pop(msg_id)\n",
        "    # Получаем идентификатор родителя\n",
        "    parrent_link = result['parrent_link']\n",
        "    # Получаем список идентификаторов потомков\n",
        "    child_link = result['child_link']\n",
        "    # Если у сообщения был родитель и он ещё не был удален\n",
        "    # Эта запись будет аналогична parrent_link is not None\n",
        "    if parrent_link and parrent_link in messages:\n",
        "        # Обращаемся к словарю messages по ключу родителя\n",
        "        # Удаляем потомка из списка потомков\n",
        "        messages[parrent_link]['child_link'].remove(msg_id)\n",
        "    # Если у сообщения были потомки\n",
        "    # Эта запись будет аналогична child_link == [<значение_1>, <значение_2>, ...]\n",
        "    if child_link:\n",
        "        # В цикле проходимся по всем потомкам\n",
        "        for child_id in child_link:\n",
        "            # И повторяем те же самые действия для каждого из них\n",
        "            # (рекурсивно вызываем функцию delete_message)\n",
        "            delete_message(messages, msg_id=child_id)\n",
        "    return messages\n",
        "\n",
        "#Для сообщения, у которого есть родитель, но нет потомков:\n",
        "print(delete_message(forum_messages, msg_id=5))\n",
        "## Будет выведено:\n",
        "## {1: {'parrent_link': None, 'child_link': [3, 4]}, 2: {'parrent_link': None, 'child_link': []}, 3: {'parrent_link': 1, 'child_link': [6]}, 4: {'parrent_link': 1, 'child_link': []}, 6: {'parrent_link': 3, 'child_link': []}}\n",
        "\n",
        "#Для сообщения, у которого есть родитель и есть потомки:\n",
        "#print(delete_message(forum_messages, msg_id=3))\n",
        "## Будет выведено:\n",
        "## {1: {'parrent_link': None, 'child_link': [4]}, 2: {'parrent_link': None, 'child_link': [5]}, 4: {'parrent_link': 1, 'child_link': []}, 5: {'parrent_link': 2, 'child_link': []}}\n",
        "\"\"\"запускать поочередно, тк словарь - измениемый тип, 2 запуска подряд удаляют одновременно \"\"\""
      ],
      "metadata": {
        "id": "1VqvH4GFQ8J_"
      },
      "execution_count": null,
      "outputs": []
    },
    {
      "cell_type": "code",
      "source": [
        "# 6.8 нужно было найти ошибку level+1 добавили 1\n",
        "\n",
        "input_dict = {\n",
        "    'key1': {\n",
        "        'key2': ['value1', 'value2'],\n",
        "        'key3': {\n",
        "            'key4': ['value3']\n",
        "        }\n",
        "    },\n",
        "    'key5': {\n",
        "        'key6': {\n",
        "            'key7': ['value3', 'value5', 'value6']\n",
        "        }\n",
        "    }\n",
        "}\n",
        "def print_dict(input_data, level=0):\n",
        "    # Если input_data — словарь\n",
        "\n",
        "    if type(input_data) is dict:\n",
        "        # Создаём цикл по ключам словаря\n",
        "\n",
        "        for key in input_data:\n",
        "            # Выводим ключ в формате \"<пробелы> <имя ключа> ->\"\n",
        "            print('  ' * level + '{} ->'.format(key))\n",
        "            # Повторяем те же операции для каждого значения словаря\n",
        "\n",
        "            print_dict(input_data[key], level+1)\n",
        "\n",
        "    else: # В противном случае\n",
        "        # Выводим значения в формате \"<пробелы> <значения>\"\n",
        "\n",
        "        print('  ' * level + str(input_data))\n",
        "\n",
        "\n",
        "print_dict(input_dict)"
      ],
      "metadata": {
        "id": "7HFtm9_VSJ1O"
      },
      "execution_count": null,
      "outputs": []
    },
    {
      "cell_type": "code",
      "source": [
        "# 7.3 ФУНКЦИИ map\n",
        "\n",
        "prices = {'яблоко': 99, 'апельсин': 99, 'вишня': 147, 'персик': 145, 'грейпфрут': 139}\n",
        "## new_prices = {'яблоко': 94.05, 'апельсин': 94.05, 'вишня': 139.65, 'персик': 137.75, 'грейпфрут': 132.05}\n",
        "def pre_func(prices_items):\n",
        "\n",
        "    name, q = prices_items\n",
        "    return name, round(q*0.95, 2)\n",
        "\n",
        "new_prices = dict(map(pre_func, prices.items()))\n",
        "print(new_prices)\n",
        "\n"
      ],
      "metadata": {
        "id": "w2CoW2OMq2aZ",
        "colab": {
          "base_uri": "https://localhost:8080/"
        },
        "outputId": "2d855ad0-bdb0-4330-8c47-312a622dc853"
      },
      "execution_count": null,
      "outputs": [
        {
          "output_type": "stream",
          "name": "stdout",
          "text": [
            "{'яблоко': 94.05, 'апельсин': 94.05, 'вишня': 139.65, 'персик': 137.75, 'грейпфрут': 132.05}\n"
          ]
        }
      ]
    },
    {
      "cell_type": "code",
      "source": [
        "# 7.6 совместное использование мap b lambda\n",
        "\n",
        "data = [(0.00632, 6.575, 65.2, 296.0, 4.98),\n",
        "(0.02731, 6.421, 78.9, 242.0, 9.14),\n",
        "(0.02729, 7.185, 61.1, 242.0, 4.03),\n",
        "(0.03237, 6.998, 45.8, 222.0, 2.94),\n",
        "(0.06905, 7.147, 54.2, 222.0, 5.33),\n",
        "(0.02985, 6.43, 58.7, 222.0, 5.21),\n",
        "(0.08829, 6.012, 66.6, 311.0, 12.43)]\n",
        "\n",
        "updated_data = list(map(lambda x: (*x, round(x[0]*x[3]*x[4], 2)), data)) # ВНИМАНИЕ НА ЛЯМБДУ, МЫ ПЕРЕПИСЫВАЕМ КОРТЕЖ\n",
        "print(updated_data)"
      ],
      "metadata": {
        "id": "r_0UjP4tT77H",
        "colab": {
          "base_uri": "https://localhost:8080/"
        },
        "outputId": "38b091d3-ec4e-4a56-bf56-5a285b59146e"
      },
      "execution_count": null,
      "outputs": [
        {
          "output_type": "stream",
          "name": "stdout",
          "text": [
            "[(0.00632, 6.575, 65.2, 296.0, 4.98, 9.32), (0.02731, 6.421, 78.9, 242.0, 9.14, 60.41), (0.02729, 7.185, 61.1, 242.0, 4.03, 26.61), (0.03237, 6.998, 45.8, 222.0, 2.94, 21.13), (0.06905, 7.147, 54.2, 222.0, 5.33, 81.7), (0.02985, 6.43, 58.7, 222.0, 5.21, 34.53), (0.08829, 6.012, 66.6, 311.0, 12.43, 341.31)]\n"
          ]
        }
      ]
    },
    {
      "cell_type": "code",
      "source": [
        "# ПОЯСНЕНИЯ ПО ФУНКЦИИ FILTER\n",
        "# filter(<имя_функции>, <итерируемый_объект>) ФУНКЦИЯ ДОЛЖНА ВОЗВРАЩАТЬ    TRUE or FALSE\n",
        "\n",
        "words_list = [\"We're\", 'in', 'a', 'small', 'village', 'near', 'Chicago', 'My', \"cousin's\", 'getting', 'married.']\n",
        "\n",
        "def is_even(x):\n",
        "    return len(x) % 2 == 0\n",
        "even_list = list(filter(is_even, words_list))\n",
        "# Смотрим, что получилось\n",
        "print(even_list)\n",
        "## Будет выведено:\n",
        "## ['in', 'near', 'My', \"cousin's\", 'married.']\n",
        "\n",
        "# Применяем lambda-функцию к каждому элементу списка\n",
        "even_list = filter(lambda x: len(x) % 2 == 0, words_list)\n",
        "# Смотрим, что получилось\n",
        "print(list(even_list))\n",
        "\n",
        "## Будет выведено:\n",
        "## ['in', 'near', 'My', \"cousin's\", 'married.']\n",
        "\n",
        "str_tuple = (\"Москва\", \"15.1 см\", \"зацвело\", \"было пол 5 утра\", \"рассвет\")\n",
        "filtered_tuple = tuple(filter(lambda x: x.isalpha(), str_tuple))\n",
        "# Смотрим, что получилось\n",
        "print(filtered_tuple)\n",
        "\n",
        "## Будет выведено:\n",
        "## ('Москва', 'зацвело', 'рассвет')\n",
        "###################################\n",
        "data = [\n",
        "    (\"FPW-2.0_D\", \"Бонус: Тренажер по HTML\", 10, 100, 10),\n",
        "    (\"FPW-2.0\", \"Бонус: Тренажер по JavaScript\", 9.2, 70, 180),\n",
        "    (\"FPW-2.0_D\", \"Бонус: Тренажер по React\", 8.5, 66.67, 68),\n",
        "    (\"FPW-2.0\", \"Бонусный: IT в современном мире\", 8.64, 83.74, 856),\n",
        "    (\"FPW-2.0\", \"Бонусный: Введение\", 8.73, 56.24, 745),\n",
        "    (\"FPW-2.0\", \"Бонус: D1. Знакомство с Django (NEW)\", 9.76, 95.24, 21),\n",
        "    (\"FPW-2.0_D\", \"Бонус: D2. Модели (NEW)\", 9.44, 77.78, 18)\n",
        "]\n",
        "#Как всегда, для решения задачи нам необходимо выделить в отдельную функцию действия, которые мы должны произвести с одним элементом итерируемого объекта (у нас это список)\n",
        "#Поэтому для начала создадим функцию, которая будет принимать один кортеж с данными о модуле\n",
        "def filter_module(module):\n",
        "    # Распаковываем кортеж на пять переменных\n",
        "    code, name, avg_votes, nessa, count = module\n",
        "    # Создаём условия\n",
        "    cond_1 = code == \"FPW-2.0\"\n",
        "    cond_2 = nessa >= 70\n",
        "    cond_3 = count > 50\n",
        "    # Условия должны выполняться одновременно\n",
        "    return cond_1 and cond_2 and cond_3\n",
        "\n",
        "print(filter_module(module=(\"FPW-2.0\", \"Бонус: Тренажер по JavaScript\", 9.2, 70, 180)))\n",
        "## Будет выведено:\n",
        "## True ->  Функция работает\n",
        "\n",
        "filtered_data = list(filter(filter_module, data))\n",
        "print(filtered_data)\n",
        "## Будет выведено:\n",
        "## [('FPW-2.0', 'Бонус: Тренажер по JavaScript', 9.2, 70, 180), ('FPW-2.0', 'Бонусный: IT в современном мире', 8.64, 83.74, 856)]\n",
        "#функцию можно переписать лямбдой:\n",
        "lambda_filter_module = lambda x: (x[0] == \"FPW-2.0\") and (x[3] >= 70) and (x[4] > 50)"
      ],
      "metadata": {
        "id": "--aILFwolEES"
      },
      "execution_count": null,
      "outputs": []
    },
    {
      "cell_type": "code",
      "source": [
        "# 8.1 практика по фильтрам\n",
        "\n",
        "prices = [34562, 66572, 25683, 17683, 56389, 28973]\n",
        "## filtered_prices = [25683, 17683, 28973]\n",
        "func = lambda x: x <= 30000\n",
        "filtered_prices = list(filter(func, prices))\n",
        "print(filtered_prices)\n",
        "\n",
        "prices_1 = [21490, 24901, 24901, 34901, 24142, 64521]\n",
        "filtered_prices_1 = list(filter(func, prices_1))\n",
        "## filtered_prices = [21490, 24901, 24901, 24142]\n",
        "print(filtered_prices_1)"
      ],
      "metadata": {
        "colab": {
          "base_uri": "https://localhost:8080/"
        },
        "id": "BKaD7oMZn3Db",
        "outputId": "8743f39f-0999-480b-aa2b-0d9b0c2bf828"
      },
      "execution_count": null,
      "outputs": [
        {
          "output_type": "stream",
          "name": "stdout",
          "text": [
            "[25683, 17683, 28973]\n",
            "[21490, 24901, 24901, 24142]\n"
          ]
        }
      ]
    },
    {
      "cell_type": "code",
      "source": [
        "## 8.2 практика по фильтрам. отфильтровать входной список\n",
        "\n",
        "family_list = [\n",
        "    'certificate of a large family',\n",
        "    'social card',\n",
        "    'maternity capital',\n",
        "    'parking permit',\n",
        "    'tax benefit',\n",
        "    'reimbursement of expenses',\n",
        "    \"compensation for the purchase of children's goods\"\n",
        " ]\n",
        "#\"сертификат многодетной семьи\",\n",
        "#\"социальная карта\",\n",
        "#\"материнский капитал\",\n",
        "#\"разрешение на парковку\",\n",
        "#\"налоговая льгота\",\n",
        "#\"возмещение расходов\",\n",
        "#\"компенсация на покупку детских товаров\"\n",
        "def filter_family(benefit):\n",
        "    return list(filter(lambda benefit: benefit in family_list, benefit))\n",
        "\n",
        "print(filter_family(['newborn registration', 'parking permit',\n",
        "                     'maternity capital', 'tax benefit', 'medical policy']))\n",
        "## ['parking permit', 'maternity capital', 'tax benefit']\n",
        "\n",
        "print(filter_family(['reimbursement of expenses', 'parking permit', 'maternity capital', 'medical policy']))\n",
        "## ['reimbursement of expenses', 'parking permit', 'maternity capital']\n"
      ],
      "metadata": {
        "id": "gJgiN1yWsVd1"
      },
      "execution_count": null,
      "outputs": []
    },
    {
      "cell_type": "code",
      "source": [
        "# ПРАКТИКА ПО ФИЛЬТРАМ\n",
        "\n",
        "# Создаём пустой список, в который будем добавлять результаты\n",
        "count_a = []\n",
        "# Создаём цикл по элементам списка words_list\n",
        "for word in words_list:\n",
        "    # Проверяем условие, что длина имени больше либо равна пяти\n",
        "    if len(word) >= 5:\n",
        "        # Создаём кортеж (слово, количество букв 'a')\n",
        "        result_tuple = (word, word.lower().count('a'))\n",
        "        # Добавляем в итоговый список кортеж\n",
        "        count_a.append(result_tuple)\n",
        "print(count_a)\n",
        "\n",
        "## Будет выведено:\n",
        "## [(\"We're\", 0), ('small', 1), ('village', 1), ('Chicago', 1), (\"cousin's\", 0), ('getting', 0), ('married.', 1)]\n",
        "\n",
        "# Отлично, всё работает так, как мы задумывали. Но можно ли решить эту задачу проще?\n",
        "\n",
        "# Отбираем слова из пяти и более букв\n",
        "filtered_words = filter(lambda x: len(x) >= 5, words_list)\n",
        "# Все отобранные слова переводим в нижний регистр и считаем число букв 'a' в них\n",
        "# Результат выдаём в виде кортежа (слово, количество букв \"a\")\n",
        "count_a = map(lambda x: (x, x.lower().count('a')), filtered_words)\n",
        "# Переводим объект map в list и печатаем его\n",
        "print(list(count_a))\n",
        "\n",
        "## Будет выведено:\n",
        "## [(\"We're\", 0), ('small', 1), ('village', 1), ('Chicago', 1), (\"cousin's\", 0), ('getting', 0), ('married.', 1)]"
      ],
      "metadata": {
        "id": "nQlhZyMnsn9r"
      },
      "execution_count": null,
      "outputs": []
    },
    {
      "cell_type": "markdown",
      "source": [],
      "metadata": {
        "id": "SbaAy6atwdWl"
      }
    },
    {
      "cell_type": "markdown",
      "source": [
        "Когда мы будем более детально изучать итераторы, мы поймём, что при создании итератора на самом деле не происходит самих вычислений. Вычисления происходят только на этапе распаковки итератора в список с помощью функции list().\n",
        "\n",
        "Это значит, что вы не тратите время на промежуточную распаковку содержимого итератора (объекта map или filter) в список. Распаковка осуществляется только один раз — в момент вызова строки list(count_a). Таким образом немного повышается производительность кода, что может дать существенный бонус при работе с огромными массивами данных, состоящими из миллионов записей."
      ],
      "metadata": {
        "id": "exDofCYGtmuE"
      }
    },
    {
      "cell_type": "markdown",
      "source": [],
      "metadata": {
        "id": "L72An2sLwdS4"
      }
    },
    {
      "cell_type": "markdown",
      "source": [
        "Нам необходимо выбрать из данных только тех пациентов, у кого соотношение массы и роста находится в пределах нормы.\n",
        "\n",
        "Результатом работы нашей программы должен стать список кортежей, удовлетворяющих условию.\n",
        "\n",
        "Например, для приведённого выше списка data мы должны получить следующий список:\n",
        "\n",
        "[('Amanda', 1.61, 51, 19.7), ('Patricia', 1.65, 61, 22.4), ('Andrey', 1.79, 61, 19.0), ('Felicia', 1.63, 56, 21.1)]\n",
        "РЕШЕНИЕ\n",
        "\n",
        "Вычислять индекс массы тела мы уже умеем (вспомните задачу 5 из предыдущего юнита):\n",
        "\n",
        "# Создаём lambda-функцию, которая считает BMI, и применяем её к каждому элементу списка\n",
        "map_func = lambda x: (*x, x[2]/(x[1]**2))\n",
        "updated_data = map(map_func, data)\n",
        "Мы получили объект map и записали его в переменную updated_data. Давайте теперь напишем функцию для фильтрации.\n",
        "\n",
        "Как мы уже обсуждали, выходом map() является кортеж из четырёх элементов (индексы идут от 0 до 3), где элемент под индексом 3 — это интересующий нас BMI.\n",
        "\n",
        "По условию задачи, мы должны отобрать только тех, у кого BMI находится в пределах нормы (от 18.5 до 25 включительно). Давайте создадим lambda-функцию, которая будет принимать на вход кортеж и возвращать True, если элемент под индексом 3 (BMI) будет находиться в заданных пределах. Применим эту функцию к результату работы map() с помощью функции filter() и обернём результат в список.\n",
        "\n",
        "Итоговый код будет выглядеть следующим образом:\n",
        "\n",
        "# Создаём lambda-функцию, которая считает BMI, и применяем её к каждому элементу списка\n",
        "map_func = lambda x: (*x, x[2]/(x[1]**2))\n",
        "updated_data = map(map_func, data)\n",
        "# Создаём lambda-функцию, которая возвращает True, если 18.5 <= BMI <= 25\n",
        "filter_func = lambda x: 18.5 <= x[3] <= 25\n",
        "# Применяем эту функцию к результату работы map()\n",
        "filtered_data = filter(filter_func, updated_data)\n",
        "# Переводим объект filter в list и печатаем его\n",
        "print(list(filtered_data))\n",
        "\n",
        "## Будет выведено:\n",
        "## [('Amanda', 1.61, 51, 19.7), ('Patricia', 1.65, 61, 22.4), ('Andrey', 1.79, 61, 19.0), ('Felicia', 1.63, 56, 21.1)]"
      ],
      "metadata": {
        "id": "JXLmgp-yuIGW"
      }
    },
    {
      "cell_type": "code",
      "source": [
        "# 8.3 ФИЛЬТРЫ\n",
        "\n",
        "reg = [('Ivanov', 'Sergej', 24, 9, 1995),\n",
        "      ('Smith', 'John', 13, 2, 2003),\n",
        "      ('Petrova', 'Maria', 13, 3, 2003)]\n",
        "filter_func = lambda x: x[4] > 2000\n",
        "union_func = lambda x: (x[0] + ' ' + x[1][0]+'.', x[2], x[3], x[4])\n",
        "result = filter(filter_func, reg)\n",
        "new_reg  = list(map(union_func, result))\n",
        "print(new_reg)\n",
        "\n",
        "#или \\\n",
        "reg_ = [('Ivanov', 'Sergej', 24, 9, 1995),\n",
        "      ('Smith', 'John', 13, 2, 2003),\n",
        "      ('Petrova', 'Maria', 13, 3, 2003)]\n",
        "filter_func_ = lambda x: x[4] > 2000\n",
        "union_func_ = lambda x: (x[0] + ' ' + x[1][0]+'.', x[2], x[3], x[4])\n",
        "new_reg_  = list(map(union_func, filter(filter_func_, reg_)))\n",
        "print(new_reg_)"
      ],
      "metadata": {
        "colab": {
          "base_uri": "https://localhost:8080/"
        },
        "id": "O0kPMhU0uM20",
        "outputId": "c005eaa1-31df-4dcb-a1ef-e4414604c2d6"
      },
      "execution_count": null,
      "outputs": [
        {
          "output_type": "stream",
          "name": "stdout",
          "text": [
            "[('Smith J.', 13, 2, 2003), ('Petrova M.', 13, 3, 2003)]\n",
            "[('Smith J.', 13, 2, 2003), ('Petrova M.', 13, 3, 2003)]\n"
          ]
        }
      ]
    },
    {
      "cell_type": "code",
      "source": [
        "## Введите свое решение ниже\n",
        "data = [(0.00632, 6.575, 65.2, 296.0, 4.98),\n",
        " (0.02731, 6.421, 78.9, 242.0, 9.14),\n",
        " (0.02729, 7.185, 61.1, 242.0, 4.03),\n",
        " (0.03237, 6.998, 45.8, 222.0, 2.94),\n",
        " (0.06905, 7.147, 54.2, 222.0, 5.33),\n",
        " (0.02985, 6.43, 58.7, 222.0, 5.21),\n",
        " (0.08829, 6.012, 66.6, 311.0, 12.43)]\n",
        "\n",
        "append_func = lambda x: (*x, round(x[0]*x[3]*x[4], 2))\n",
        "filter_func= lambda x: x[5] > 60\n",
        "filtered_data = list(filter(filter_func, map(append_func, data)))\n",
        "print(filtered_data)"
      ],
      "metadata": {
        "colab": {
          "base_uri": "https://localhost:8080/"
        },
        "id": "5MhMdbXByPOU",
        "outputId": "6d68653b-5b04-49eb-b8e9-ecb4f378ee51"
      },
      "execution_count": null,
      "outputs": [
        {
          "output_type": "stream",
          "name": "stdout",
          "text": [
            "[(0.02731, 6.421, 78.9, 242.0, 9.14, 60.41), (0.06905, 7.147, 54.2, 222.0, 5.33, 81.7), (0.08829, 6.012, 66.6, 311.0, 12.43, 341.31)]\n"
          ]
        }
      ]
    },
    {
      "cell_type": "code",
      "source": [
        "## Введите свое решение ниже\n",
        "input_string = 'Hello! My name is Python. I will help you to analyze some data.'\n",
        "## count_words = 13\n",
        "\n",
        "input_string = 'There are many great articles about Artificial Intelligence and its benefits for business and society. However, many of these articles are too technical for the average reader.'\n",
        "## count_words = 27\n",
        "\n",
        "count_words = len(''.join(input_string)\\\n",
        "                  .replace('.','').replace(',','')\\\n",
        "                  .replace('!','').replace('?', '').split())\n",
        "print(count_words)"
      ],
      "metadata": {
        "colab": {
          "base_uri": "https://localhost:8080/"
        },
        "id": "M9Ty0dki3r0X",
        "outputId": "69ba1c68-57f9-404d-ec23-c842067463ba"
      },
      "execution_count": null,
      "outputs": [
        {
          "output_type": "stream",
          "name": "stdout",
          "text": [
            "27\n"
          ]
        }
      ]
    },
    {
      "cell_type": "code",
      "source": [
        "## Введите свое решение ниже\n",
        "file_path = 'data/images/train/10394.jpg'\n",
        "## file_name = '10394'\n",
        "## file_extension = 'jpg'\n",
        "file_name, file_extension = file_path.split('/')[-1].split('.')\n",
        "\n",
        "print(file_name, file_extension)"
      ],
      "metadata": {
        "colab": {
          "base_uri": "https://localhost:8080/"
        },
        "id": "xqsO4thmSN2k",
        "outputId": "d4fc950f-9b21-4961-dc3f-c8a580d51d46"
      },
      "execution_count": null,
      "outputs": [
        {
          "output_type": "stream",
          "name": "stdout",
          "text": [
            "10394 jpg\n"
          ]
        }
      ]
    },
    {
      "cell_type": "code",
      "source": [
        "# Практика, повторение. !!!!!!!!!!!!!!!!можно ли решить проще?\n",
        "\n",
        "#generated_text = \"глаза нее на поднял он и она попросила что-нибудь скажи\"\n",
        "## updated_text = \"скажи что-нибудь попросила она и он поднял на нее глаза\"\n",
        "\n",
        "generated_text = \"задачи своей решения способ или информацию ищет он поисковик в запрос вводит человек когда\"\n",
        "## updated_text = когда человек вводит запрос в поисковик он ищет информацию или способ решения своей задачи\n",
        "def revers_func(text):\n",
        "    new_text = []\n",
        "    a = text.split()\n",
        "    l = len(a)-1\n",
        "    for i in range(0, l+1):\n",
        "        new_text.append(a[l-i])\n",
        "    return \" \".join(new_text)\n",
        "updated_text = revers_func(generated_text)\n",
        "print(revers_func(generated_text))\n"
      ],
      "metadata": {
        "colab": {
          "base_uri": "https://localhost:8080/"
        },
        "id": "vSEjOnn3T_Gl",
        "outputId": "43f56088-e726-44c2-c3e7-1cd3a44d528f"
      },
      "execution_count": null,
      "outputs": [
        {
          "output_type": "stream",
          "name": "stdout",
          "text": [
            "когда человек вводит запрос в поисковик он ищет информацию или способ решения своей задачи <class 'str'>\n"
          ]
        }
      ]
    },
    {
      "cell_type": "code",
      "source": [
        "## Введите свое решение ниже\n",
        "car_dict = {\n",
        "    'car_ID': [123, 117, 111, 82, 101, 96, 156, 2, 58, 49],\n",
        "    'fueltype': ['gas', 'diesel', 'diesel', 'gas', 'gas', 'gas', 'gas', 'gas', 'gas', 'gas'],\n",
        "    'horsepower': [68, 95, 95, 88, 97, 69, 62, 111, 101, 176],\n",
        "    'price': [7609.0, 17950.0, 13860.0, 8499.0, 9549.0, 7799.0, 8778.0, 16500.0, 13645.0, 35550.0]\n",
        "}\n",
        "mean_price = sum(car_dict['price'])/len(car_dict['price'])\n",
        "\n",
        "count_diesel = car_dict['fueltype'].count('diesel')\n",
        "\n",
        "min_horsepower = min(car_dict['horsepower'])"
      ],
      "metadata": {
        "colab": {
          "base_uri": "https://localhost:8080/"
        },
        "id": "EUP6lurvprpP",
        "outputId": "feae5f1a-5e2e-4fd9-e442-b9b2f749739a"
      },
      "execution_count": null,
      "outputs": [
        {
          "output_type": "stream",
          "name": "stdout",
          "text": [
            "13973.9\n",
            "2\n"
          ]
        }
      ]
    },
    {
      "cell_type": "code",
      "source": [
        "# Введите свое решение ниже\n",
        "def division(a, b):\n",
        "    try:\n",
        "        if b == 0:\n",
        "            raise ZeroDivisionError(\"Zero division error!\")\n",
        "        div = a/b\n",
        "    except ZeroDivisionError:\n",
        "        return \"Zero division error!\"\n",
        "    return div\n",
        "division(a = 36, b = 0)"
      ],
      "metadata": {
        "colab": {
          "base_uri": "https://localhost:8080/",
          "height": 47
        },
        "id": "7MpBivDVUtmX",
        "outputId": "1dad5de5-0b00-4793-d7b6-dc90d0d4371a"
      },
      "execution_count": null,
      "outputs": [
        {
          "output_type": "execute_result",
          "data": {
            "text/plain": [
              "'Zero division error!'"
            ],
            "application/vnd.google.colaboratory.intrinsic+json": {
              "type": "string"
            }
          },
          "metadata": {},
          "execution_count": 32
        }
      ]
    },
    {
      "cell_type": "code",
      "source": [
        "data = {'0': 1, '4': 1, '6': 1, '8': 2, '9': 1}\n",
        "\n",
        "def holes_count(number):\n",
        "    n_s = str(number)\n",
        "    sum_ = 0\n",
        "    for i in n_s:\n",
        "        if i in data.keys():\n",
        "            sum_ += data[i]\n",
        "    return sum_\n",
        "\n",
        "print(holes_count(8))\n",
        "# 2\n",
        "print(holes_count(146))"
      ],
      "metadata": {
        "colab": {
          "base_uri": "https://localhost:8080/"
        },
        "id": "jNvYSXrgL0AN",
        "outputId": "d9f09267-c7c4-484c-f341-c1ca3ab72c40"
      },
      "execution_count": null,
      "outputs": [
        {
          "output_type": "stream",
          "name": "stdout",
          "text": [
            "2\n",
            "2\n"
          ]
        }
      ]
    },
    {
      "cell_type": "code",
      "source": [
        "# Ищем КОЛЛИЧЕСТВО ЧЕТНЫХ ЧИСЕЛ В МАТРИЦЕ\n",
        "\n",
        "def even_numbers_in_matrix(matrix):\n",
        "    result = []\n",
        "    for list_ in matrix:\n",
        "        result =result + list_\n",
        "    new_list = list(filter(lambda l: l%2==0, result))\n",
        "    return len(new_list)\n",
        "\n",
        "\n",
        "\n",
        "\n",
        "matrix_example = [\n",
        "    [1, 5, 4],\n",
        "    [4, 2, -2],\n",
        "    [7, 65, 88]\n",
        "]\n",
        "\n",
        "print(even_numbers_in_matrix(matrix=matrix_example))\n",
        "# 5"
      ],
      "metadata": {
        "colab": {
          "base_uri": "https://localhost:8080/"
        },
        "id": "Lq9aOCx5QO2Q",
        "outputId": "ef4030e7-1170-4403-c3e8-2c98e7a2dd3e"
      },
      "execution_count": null,
      "outputs": [
        {
          "output_type": "stream",
          "name": "stdout",
          "text": [
            "5\n"
          ]
        }
      ]
    },
    {
      "cell_type": "code",
      "source": [
        "# СУМИРУЕМ МАТРИЦЫ(напролом)\n",
        "\n",
        "def matrix_sum(matrix1, matrix2):\n",
        "    result = []\n",
        "    c1 = []\n",
        "    for list_ in matrix1:\n",
        "        c1.append(len(list_))\n",
        "        result =result + list_\n",
        "    result_2 = []\n",
        "    c2 = []\n",
        "    for list_ in matrix2:\n",
        "        c2.append(len(list_))\n",
        "        result_2 =result_2 + list_\n",
        "    if c1 != c2:\n",
        "        print(\"Error! Matrices dimensions are different!\")\n",
        "        return None\n",
        "    new_list = []\n",
        "    result_ =[]\n",
        "    for i, val in enumerate(result_2):\n",
        "        result_.append(result[i]+result_2[i])\n",
        "        if (i+1)%3 ==0 and i+1 != 0 :\n",
        "            new_list.append(result_)\n",
        "            result_ =[]\n",
        "    return new_list\n",
        "\n",
        "\n",
        "\n",
        "matrix1_example = [\n",
        "          [1, 5, 2],\n",
        "          [4, 2, -2],\n",
        "          [4, 2, -2]\n",
        "]\n",
        "\n",
        "matrix2_example = [\n",
        "          [10, 15, 43],\n",
        "          [41, 2, -2],\n",
        "          [7, 5, 7]\n",
        "]\n",
        "print(matrix_sum(matrix1_example, matrix2_example))"
      ],
      "metadata": {
        "colab": {
          "base_uri": "https://localhost:8080/"
        },
        "id": "ZZMVY09OAmdB",
        "outputId": "847eea33-1712-4cd0-9692-58513c1492a8"
      },
      "execution_count": null,
      "outputs": [
        {
          "output_type": "stream",
          "name": "stdout",
          "text": [
            "Error! Matrices dimensions are different!\n",
            "None\n"
          ]
        }
      ]
    },
    {
      "cell_type": "code",
      "source": [
        "## Выводим случайные данные по алфавиту\n",
        "\n",
        "def print_personal_data(**arg):\n",
        "    dict_= dict(sorted(arg.items()))\n",
        "    for key in dict_:\n",
        "        print(f\"{key}: \" + f'{dict_[key]}')\n",
        "\n",
        "\n",
        "\n",
        "\n",
        "print_personal_data(first_name='John', last_name='Doe', age=28, position='Python developer')\n",
        "# age: 28\n",
        "# first_name: John\n",
        "# last_name: Doe\n",
        "# position: Python developer\n",
        "\n",
        "#print_personal_data(first_name='Jack', last_name='Smith', age=32, work_experience = '5 years', position='Project manager')\n",
        "# age: 32\n",
        "# first_name: Jack\n",
        "# last_name: Smith\n",
        "# position: Project manager\n",
        "# work_experience: 5 years\n"
      ],
      "metadata": {
        "colab": {
          "base_uri": "https://localhost:8080/"
        },
        "id": "YbzZ9tlrt010",
        "outputId": "14c478c1-8e40-45e7-e038-c7ef3f533405"
      },
      "execution_count": null,
      "outputs": [
        {
          "output_type": "stream",
          "name": "stdout",
          "text": [
            "age: 28\n",
            "first_name: John\n",
            "last_name: Doe\n",
            "position: Python developer\n"
          ]
        }
      ]
    },
    {
      "cell_type": "code",
      "source": [
        "# ФУНКЦИЯ ОЧИСТКИ ОТ ЗНАКОВ ПРЕПИНАНИЯ\n",
        "\n",
        "def get_words_list(text):\n",
        "    punctuation_list = ['.', ',', ';', ':', '...', '!', '?', '-', '\"', '(', ')']\n",
        "    txt = \"\".join(filter(lambda s: s if s not in punctuation_list else \"\" ,text.lower() ))\n",
        "    return txt.split()\n",
        "\n",
        "text_example = \"Arrakis, the planet known as Dune, is forever his place.\"\n",
        "\n",
        "print(get_words_list(text=text_example))\n",
        "# ['arrakis', 'the', 'planet', 'known', 'as', 'dune', 'is', 'forever', 'his', 'place']\n"
      ],
      "metadata": {
        "colab": {
          "base_uri": "https://localhost:8080/"
        },
        "id": "yVLsVKBqxmPl",
        "outputId": "510aed10-a0d1-481d-97e2-3594a5309021"
      },
      "execution_count": null,
      "outputs": [
        {
          "output_type": "stream",
          "name": "stdout",
          "text": [
            "['arrakis', 'the', 'planet', 'known', 'as', 'dune', 'is', 'forever', 'his', 'place']\n"
          ]
        }
      ]
    },
    {
      "cell_type": "code",
      "source": [
        "# ФУНКЦИЯ ДЛЯ ПОИСКА УНИКАЛЬНЫХ СЛОВ(возвращает отсортироваными)\n",
        "\n",
        "def get_unique_words(words_list ):\n",
        "    words_set = set(words_list)\n",
        "    words_list_to = sorted(list(words_set))\n",
        "    return words_list_to\n",
        "\n",
        "words_list_example = ['and', 'take', 'the', 'most', 'special', 'care', 'that', 'you', 'locate', \"muad'dib\", 'in', 'his', 'place', 'the', 'planet', 'arrakis', 'do', 'not', 'be', 'deceived', 'by', 'the', 'fact', 'that', 'he', 'was', 'born', 'on', 'caladan', 'and', 'lived', 'his', 'first', 'fifteen', 'years', 'there', 'arrakis', 'the', 'planet', 'known', 'as', 'dune', 'is', 'forever', 'his', 'place']\n",
        "\n",
        "print(get_unique_words(words_list=words_list_example))\n",
        "## ['and', 'arrakis', 'as', 'be', 'born', 'by', 'caladan', 'care', 'deceived', 'do', 'dune', 'fact', 'fifteen', 'first', 'forever', 'he', 'his', 'in', 'is', 'known', 'lived', 'locate', 'most', \"muad'dib\", 'not', 'on', 'place', 'planet', 'special', 'take', 'that', 'the', 'there', 'was', 'years', 'you']\n"
      ],
      "metadata": {
        "colab": {
          "base_uri": "https://localhost:8080/"
        },
        "id": "aN6YLAcX0d0M",
        "outputId": "138017ca-9cb4-4c7f-8d86-f0d1be1d2392"
      },
      "execution_count": null,
      "outputs": [
        {
          "output_type": "stream",
          "name": "stdout",
          "text": [
            "['and', 'arrakis', 'as', 'be', 'born', 'by', 'caladan', 'care', 'deceived', 'do', 'dune', 'fact', 'fifteen', 'first', 'forever', 'he', 'his', 'in', 'is', 'known', 'lived', 'locate', 'most', \"muad'dib\", 'not', 'on', 'place', 'planet', 'special', 'take', 'that', 'the', 'there', 'was', 'years', 'you']\n"
          ]
        }
      ]
    },
    {
      "cell_type": "markdown",
      "source": [
        "ФУНКЦИЯ СОРТИРОВЩИК - ВЫВОДИТ САМОЕ УПОМИНАЕМОЕ СЛОВО\n"
      ],
      "metadata": {
        "id": "OsUr05l--U0o"
      }
    },
    {
      "cell_type": "code",
      "source": [
        "def get_most_frequent_word(text):\n",
        "\n",
        "    def get_words_list(text):  # ФУНКЦИЯ ОЧИСТКИ ОТ ЗНАКОВ ПРЕПИНАНИЯ\n",
        "        punctuation_list = ['.', ',', ';', ':', '...', '!', '?', '-', '\"', '(', ')']\n",
        "        txt = \"\".join(filter(lambda s: s if s not in punctuation_list else \"\" ,text.lower() ))\n",
        "        return txt.split()\n",
        "\n",
        "    def get_unique_words(words_list ): # ФУНКЦИЯ ДЛЯ ПОИСКА УНИКАЛЬНЫХ СЛОВ(возвращает отсортироваными)\n",
        "        words_set = set(words_list)\n",
        "        words_list_to = sorted(list(words_set))\n",
        "        return words_list_to\n",
        "    unique_words = get_unique_words(get_words_list(text)) # список уникальных слов\n",
        "\n",
        "    frequent_words_set = dict()\n",
        "    for word in unique_words:\n",
        "        frequent_words_set[word] = text.split().count(word)\n",
        "    if not unique_words:\n",
        "        return str()\n",
        "    return sorted(frequent_words_set.items(), key=lambda item: item[1])[-1][0]\n",
        "\n",
        "#text_example = \"A beginning is the time for taking the most delicate care that the balances are correct. This every sister of the Bene Gesserit knows. To begin your study of the life of Muad'Dib, then take care that you first place him in his time: born in the 57th year of the Padishah Emperor, Shaddam IV. And take the most special care that you locate Muad'Dib in his place: the planet Arrakis. Do not be deceived by the fact that he was born on Caladan and lived his first fifteen years there. Arrakis, the planet known as Dune, is forever his place.\"\n",
        "#print(get_most_frequent_word(text_example))\n",
        "# the\n",
        "text_example = \"dddd ddddf gh ddddf\"\n",
        "print(get_most_frequent_word(text_example))\n",
        "# и"
      ],
      "metadata": {
        "colab": {
          "base_uri": "https://localhost:8080/"
        },
        "id": "a3Mb4TsY1Drv",
        "outputId": "2538e4f9-3e7c-4d50-cd0e-449c41ec8d4e"
      },
      "execution_count": null,
      "outputs": [
        {
          "output_type": "stream",
          "name": "stdout",
          "text": [
            "ddddf\n"
          ]
        }
      ]
    },
    {
      "cell_type": "markdown",
      "source": [
        "ФУНКЦИЯ добавляет в каждый кортеж новый элемент + сортирует результат по добавленному элементу"
      ],
      "metadata": {
        "id": "rvdfEtzn_EF6"
      }
    },
    {
      "cell_type": "code",
      "source": [
        "data = [\n",
        "    ('Amanda', 37, 78, 67),\n",
        "    ('Patricia', 78, 93, 68),\n",
        "    ('Marcos', 79, 67, 89),\n",
        "    ('Dmitry', 67, 68, 100),\n",
        "    ('Andrey', 100, 78, 76),\n",
        "    ('Victoria', 93, 69, 96),\n",
        "]\n",
        "def get_total_score(data):\n",
        "    append_func = lambda x: (*x, x[1]+x[2]+x[3])\n",
        "    data_ = sorted(list(map(append_func, data)), key = lambda x: -x[-1]) # реверс заменили минусом\n",
        "    return data_\n",
        "\n",
        "\n",
        "\n",
        "\n",
        "\n",
        "print(get_total_score(data))\n",
        "# [('Amanda', 37, 78, 67, 182), ('Marcos', 79, 67, 89, 235), ('Dmitry', 67, 68, 100, 235), ('Patricia', 78, 93, 68, 239), ('Andrey', 100, 78, 76, 254), ('Victoria', 93, 69, 96, 258)]\n"
      ],
      "metadata": {
        "colab": {
          "base_uri": "https://localhost:8080/"
        },
        "id": "o69KOH_9-AiQ",
        "outputId": "d6ce9ca1-6f4d-4230-ff07-13e925c5442c"
      },
      "execution_count": null,
      "outputs": [
        {
          "output_type": "stream",
          "name": "stdout",
          "text": [
            "[('Victoria', 93, 69, 96, 258), ('Andrey', 100, 78, 76, 254), ('Patricia', 78, 93, 68, 239), ('Marcos', 79, 67, 89, 235), ('Dmitry', 67, 68, 100, 235), ('Amanda', 37, 78, 67, 182)]\n"
          ]
        }
      ]
    },
    {
      "cell_type": "markdown",
      "source": [],
      "metadata": {
        "id": "B_8t-zuSCYyl"
      }
    },
    {
      "cell_type": "code",
      "source": [
        "data = {\n",
        "    \"type\": \"video\",\n",
        "    #\"videoID\": \"vid001\",\n",
        "    \"links\": [\n",
        "        {\"type\":\"video\", \"videoID\":\"vid002\", \"links\":[]},\n",
        "        {   \"type\":\"video\",\n",
        "            \"videoID\":\"vid003\",\n",
        "            \"links\": [\n",
        "            {\"type\": \"video\", \"videoID\":\"vid004\"},\n",
        "            {\"type\": \"video\", \"videoID\":\"vid005\"},\n",
        "            ]\n",
        "        },\n",
        "        {\"type\":\"video\", \"videoID\":\"vid006\"},\n",
        "        {   \"type\":\"video\",\n",
        "            \"videoID\":\"vid007\",\n",
        "            \"links\": [\n",
        "            {\"type\":\"video\", \"videoID\":\"vid008\", \"links\": [\n",
        "                {   \"type\":\"video\",\n",
        "                    \"videoID\":\"vid009\",\n",
        "                    \"links\": [{\"type\":\"video\", \"videoID\":\"vid010\"}]\n",
        "                }\n",
        "            ]}\n",
        "        ]},\n",
        "    ]\n",
        "}\n",
        "\n",
        "def find_video(data):\n",
        "    result = []\n",
        "    if type(data) is dict:\n",
        "        for key in data.keys():\n",
        "            if key == 'videoID':\n",
        "                ap = data.pop(key)\n",
        "                result.append(ap) + find_video(data)\n",
        "            if type(key) != str and key:\n",
        "                data = key\n",
        "!!!!!!!!!!!!!!!!!!!!!!!!!!!!!!!!!!!!!!!!!!!!!!!!!!!!!!!!!!!!!!!!!!!!!!!!!!!!!!!!!!!!!!!!!!!!!!!!!!!!!!!!!!!!!!!!!!!!!!!!!!!!!!!!!!!!!!!!!!!!!!!!!!!!!!!!!!!!!!!!!!!!!!!!!!!!!!!!!!!!!!!!\n",
        "\n",
        "\n",
        "\n",
        "\n",
        "\n",
        "find_video(data)"
      ],
      "metadata": {
        "colab": {
          "base_uri": "https://localhost:8080/"
        },
        "id": "TV-OPlBxCY-d",
        "outputId": "a1fcba65-1fbd-48e0-d2e2-8fc718316cc4"
      },
      "execution_count": null,
      "outputs": [
        {
          "output_type": "stream",
          "name": "stdout",
          "text": [
            "videoID\n",
            "vid001\n"
          ]
        }
      ]
    },
    {
      "cell_type": "markdown",
      "source": [
        "ФИЛЬТРЫ, РАБОТА С СЛОВАРЕМ"
      ],
      "metadata": {
        "id": "JRY8JwupYoKo"
      }
    },
    {
      "cell_type": "code",
      "source": [
        "cheese_data = {\n",
        "    'чеддер': [370, 5000, 33, 'твердый'],\n",
        "    'пармезан': [510, 4000, 29, 'твердый'],\n",
        "    'гауда': [250, 3700, 27, 'полутвердый'],\n",
        "    'эдам': [220, 10000, 30, 'полутвердый'],\n",
        "    'горгонзола': [320, 3000, 32, 'полумягкий'],\n",
        "    'рокфор': [340, 15000, 31, 'полумягкий'],\n",
        "    'стилтон': [360, 7000, 35, 'полумягкий'],\n",
        "    'камамбер': [250, 8000, 24, 'мягкий'],\n",
        "    'бри': [310, 6500, 28, 'мягкий'],\n",
        "}\n",
        "def filter_by_fat(cheese_data, n):\n",
        "    filter_func = lambda x : cheese_data[x][2] < n\n",
        "    key_ = list(filter(filter_func, cheese_data))\n",
        "    dict_true = dict()\n",
        "    for k in key_:\n",
        "        dict_true.update({k: cheese_data[k][2]})\n",
        "    return dict_true\n",
        "\n",
        "\n",
        "\n",
        "print(filter_by_fat(cheese_data, n=30))\n",
        "# {'пармезан': 29, 'гауда': 27, 'камамбер': 24, 'бри': 28}\n",
        "\n",
        "#print(filter_by_fat(cheese_data, n=25))\n",
        "# {'камамбер': 24}\n"
      ],
      "metadata": {
        "colab": {
          "base_uri": "https://localhost:8080/"
        },
        "id": "1GE0tN4uHJvN",
        "outputId": "8b5ebec8-7dc3-4eb5-aac5-4cb0534dd845"
      },
      "execution_count": null,
      "outputs": [
        {
          "output_type": "stream",
          "name": "stdout",
          "text": [
            "{'чеддер': 33, 'горгонзола': 32, 'рокфор': 31, 'стилтон': 35}\n"
          ]
        }
      ]
    },
    {
      "cell_type": "code",
      "source": [
        "## Введите свое решение ниже\n",
        "cheese_data = {\n",
        "    'чеддер': [370, 5000, 33, 'твердый'],\n",
        "    'пармезан': [510, 4000, 29, 'твердый'],\n",
        "    'гауда': [250, 3700, 27, 'полутвердый'],\n",
        "    'эдам': [220, 10000, 30, 'полутвердый'],\n",
        "    'горгонзола': [320, 3000, 32, 'полумягкий'],\n",
        "    'рокфор': [340, 15000, 31, 'полумягкий'],\n",
        "    'стилтон': [360, 7000, 35, 'полумягкий'],\n",
        "    'камамбер': [250, 8000, 24, 'мягкий'],\n",
        "    'бри': [310, 6500, 28, 'мягкий'],\n",
        "}\n",
        "def count_money(cheese_data):\n",
        "    map_func = lambda x: cheese_data[x][0]*10*cheese_data[x][1] # в списке res находятся произведения cheese_data[x][0]* cheese_data[x][1]\n",
        "    res = sum(list(map(map_func, cheese_data)))\n",
        "    return res\n",
        "print(count_money(cheese_data))\n",
        "## 196100000"
      ],
      "metadata": {
        "colab": {
          "base_uri": "https://localhost:8080/"
        },
        "id": "ugMruxJtYxRm",
        "outputId": "252ff5fe-66b4-4312-d9f9-24f0a6fbffa2"
      },
      "execution_count": null,
      "outputs": [
        {
          "output_type": "stream",
          "name": "stdout",
          "text": [
            "19610000000\n"
          ]
        }
      ]
    },
    {
      "cell_type": "code",
      "source": [
        "## Введите свое решение ниже\n",
        "cheese_data = {\n",
        "    'чеддер': [370, 5000, 33, 'твердый'],\n",
        "    'пармезан': [510, 4000, 29, 'твердый'],\n",
        "    'гауда': [250, 3700, 27, 'полутвердый'],\n",
        "    'эдам': [220, 10000, 30, 'полутвердый'],\n",
        "    'горгонзола': [320, 3000, 32, 'полумягкий'],\n",
        "    'рокфор': [340, 15000, 31, 'полумягкий'],\n",
        "    'стилтон': [360, 7000, 35, 'полумягкий'],\n",
        "    'камамбер': [250, 8000, 24, 'мягкий'],\n",
        "    'бри': [310, 6500, 28, 'мягкий'],\n",
        "}\n",
        "def find_cheese_type(cheese_data, cheese_type):\n",
        "    filter_func = lambda x: cheese_data[x][3] == cheese_type # пишем условие совпадения запроса с табличными данными\n",
        "    map_func = lambda x: x # берем только название\n",
        "    res = list(map(map_func, filter(filter_func, cheese_data) ))\n",
        "    return res\n",
        "\n",
        "find_cheese_type(cheese_data, cheese_type='мягкий')\n",
        "# ['камамбер', 'бри']\n",
        "\n",
        "find_cheese_type(cheese_data, cheese_type='полумягкий')\n",
        "# ['горгонзола', 'рокфор', 'стилтон']\n"
      ],
      "metadata": {
        "colab": {
          "base_uri": "https://localhost:8080/"
        },
        "id": "JrMrBAhJeZlv",
        "outputId": "c98665a3-f3fa-4e41-e2f3-8175c13e6f59"
      },
      "execution_count": null,
      "outputs": [
        {
          "output_type": "execute_result",
          "data": {
            "text/plain": [
              "['горгонзола', 'рокфор', 'стилтон']"
            ]
          },
          "metadata": {},
          "execution_count": 149
        }
      ]
    },
    {
      "cell_type": "code",
      "source": [
        "cheese_data = {\n",
        "    'чеддер': [370, 5000, 33, 'твердый'],\n",
        "    'пармезан': [510, 4000, 29, 'твердый'],\n",
        "    'гауда': [250, 3700, 27, 'полутвердый'],\n",
        "    'эдам': [220, 10000, 30, 'полутвердый'],\n",
        "    'горгонзола': [320, 3000, 32, 'полумягкий'],\n",
        "    'рокфор': [340, 15000, 31, 'полумягкий'],\n",
        "    'стилтон': [360, 7000, 35, 'полумягкий'],\n",
        "    'камамбер': [250, 8000, 24, 'мягкий'],\n",
        "    'бри': [310, 6500, 28, 'мягкий'],\n",
        "}\n",
        "def sort_cheese(cheese_data):\n",
        "    map_func = lambda x: [x, cheese_data[x][0]]\n",
        "    res_tuple = sorted(list(map(map_func, cheese_data)), key= lambda x: x[1])\n",
        "    map_func_2 = lambda x: x[0]\n",
        "    res = list(map(map_func_2, res_tuple))\n",
        "    return res\n",
        "\n",
        "print(sort_cheese(cheese_data))\n",
        "# ['эдам', 'гауда', 'камамбер', 'бри', 'горгонзола', 'рокфор', 'стилтон', 'чеддер', 'пармезан']\n"
      ],
      "metadata": {
        "colab": {
          "base_uri": "https://localhost:8080/"
        },
        "id": "CXxHxQiSgYM9",
        "outputId": "1eb51e95-c84a-495a-fd62-f310223077f9"
      },
      "execution_count": null,
      "outputs": [
        {
          "output_type": "stream",
          "name": "stdout",
          "text": [
            "['эдам', 'гауда', 'камамбер', 'бри', 'горгонзола', 'рокфор', 'стилтон', 'чеддер', 'пармезан']\n"
          ]
        }
      ]
    },
    {
      "cell_type": "markdown",
      "source": [
        "ЗАДАЧА НА ПОИМКУ И ВЫВОД ДУБЛИКАТОВ\n",
        "Если все ингредиенты разные, выводится строка \"Ваш заказ оформлен верно\".\n",
        "Если ингредиент дублируется, выводится строка \"Вы продублировали ингредиент {название ингредиента} в заказе {количество дублей} раз(а)\""
      ],
      "metadata": {
        "id": "S5QmOpFpwwga"
      }
    },
    {
      "cell_type": "code",
      "source": [
        "ingredients= ['кислота уксусная', 'кислота лимонная', 'закваска', 'кислота молочная', 'пряность', 'бактерии', 'аннато', 'кальций', 'калий', 'специя', 'молоко коровье', 'молоко овечье', 'фермент', 'соль', 'сливки', 'грибки', 'ароматизатор', 'молоко козье', 'дрожжи', 'каротин']\n",
        "\n",
        "def purchase(ingredients):\n",
        "    dict_count = dict(zip(ingredients, list(map(lambda x: 0, ingredients) ))) # создаем словарь. вторым списком будет список нулей\n",
        "    list(map(lambda x: dict_count.update({x: dict_count[x]+1}), ingredients)) # заполняем словарь\n",
        "    filter_func = lambda y: dict_count[y] > 1 # последовательно смотрим какие ингридиенты занесены несколько раз\n",
        "    error_dict = list(filter(filter_func, dict_count))\n",
        "    print(\"Ваш заказ оформлен верно\") if not error_dict else print(*list(map(lambda p: f'Вы продублировали ингредиент {p} в заказе {dict_count[p]} раз(а)', error_dict)), sep= '\\n')\n",
        "\n",
        "purchase(ingredients)\n",
        "# Ваш заказ оформлен верно\n"
      ],
      "metadata": {
        "colab": {
          "base_uri": "https://localhost:8080/"
        },
        "id": "ScsqYPIiinPr",
        "outputId": "c85575b3-c68f-4840-f9e5-0db35f8d8705"
      },
      "execution_count": null,
      "outputs": [
        {
          "output_type": "stream",
          "name": "stdout",
          "text": [
            "Ваш заказ оформлен верно\n"
          ]
        }
      ]
    },
    {
      "cell_type": "code",
      "source": [],
      "metadata": {
        "id": "eTsEdrodxCxn"
      },
      "execution_count": null,
      "outputs": []
    }
  ]
}